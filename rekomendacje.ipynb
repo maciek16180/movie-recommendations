{
 "cells": [
  {
   "cell_type": "code",
   "execution_count": 1,
   "metadata": {
    "collapsed": true
   },
   "outputs": [],
   "source": [
    "import numpy as np\n",
    "import pandas as pd\n",
    "from scipy.spatial.distance import cdist\n",
    "import time"
   ]
  },
  {
   "cell_type": "code",
   "execution_count": 2,
   "metadata": {
    "collapsed": true
   },
   "outputs": [],
   "source": [
    "def read_small():\n",
    "    data_path = 'ml-latest-small/'\n",
    "    movies = pd.read_csv(data_path + 'movies.csv')\n",
    "    ratings = pd.read_csv(data_path + 'ratings.csv')\n",
    "    min_rate = .5\n",
    "    return movies, ratings, .5\n",
    "\n",
    "def read_10M():\n",
    "    data_path = 'ml-10M100K/'\n",
    "    movies = pd.read_csv(data_path + 'movies.dat', delimiter='::', engine='python')\n",
    "    ratings = pd.read_csv(data_path + 'ratings.dat', delimiter='::', engine='python')\n",
    "    min_rate = .5\n",
    "    return movies, ratings, .5\n",
    "\n",
    "def read_1M():\n",
    "    data_path = 'ml-1m/'\n",
    "    movies = pd.read_csv(data_path + 'movies.dat', delimiter='::', engine='python')\n",
    "    ratings = pd.read_csv(data_path + 'ratings.dat', delimiter='::', engine='python') \n",
    "    min_rate = 1.\n",
    "    return movies, ratings, 1."
   ]
  },
  {
   "cell_type": "code",
   "execution_count": 3,
   "metadata": {
    "collapsed": false
   },
   "outputs": [],
   "source": [
    "movies, ratings, min_rate = read_10M()"
   ]
  },
  {
   "cell_type": "code",
   "execution_count": 4,
   "metadata": {
    "collapsed": false,
    "scrolled": true
   },
   "outputs": [
    {
     "data": {
      "text/html": [
       "<div>\n",
       "<table border=\"1\" class=\"dataframe\">\n",
       "  <thead>\n",
       "    <tr style=\"text-align: right;\">\n",
       "      <th></th>\n",
       "      <th>movieId</th>\n",
       "      <th>title</th>\n",
       "      <th>genres</th>\n",
       "    </tr>\n",
       "  </thead>\n",
       "  <tbody>\n",
       "    <tr>\n",
       "      <th>0</th>\n",
       "      <td>1</td>\n",
       "      <td>Toy Story (1995)</td>\n",
       "      <td>Adventure|Animation|Children|Comedy|Fantasy</td>\n",
       "    </tr>\n",
       "    <tr>\n",
       "      <th>1</th>\n",
       "      <td>2</td>\n",
       "      <td>Jumanji (1995)</td>\n",
       "      <td>Adventure|Children|Fantasy</td>\n",
       "    </tr>\n",
       "    <tr>\n",
       "      <th>2</th>\n",
       "      <td>3</td>\n",
       "      <td>Grumpier Old Men (1995)</td>\n",
       "      <td>Comedy|Romance</td>\n",
       "    </tr>\n",
       "    <tr>\n",
       "      <th>3</th>\n",
       "      <td>4</td>\n",
       "      <td>Waiting to Exhale (1995)</td>\n",
       "      <td>Comedy|Drama|Romance</td>\n",
       "    </tr>\n",
       "    <tr>\n",
       "      <th>4</th>\n",
       "      <td>5</td>\n",
       "      <td>Father of the Bride Part II (1995)</td>\n",
       "      <td>Comedy</td>\n",
       "    </tr>\n",
       "    <tr>\n",
       "      <th>5</th>\n",
       "      <td>6</td>\n",
       "      <td>Heat (1995)</td>\n",
       "      <td>Action|Crime|Thriller</td>\n",
       "    </tr>\n",
       "    <tr>\n",
       "      <th>6</th>\n",
       "      <td>7</td>\n",
       "      <td>Sabrina (1995)</td>\n",
       "      <td>Comedy|Romance</td>\n",
       "    </tr>\n",
       "    <tr>\n",
       "      <th>7</th>\n",
       "      <td>8</td>\n",
       "      <td>Tom and Huck (1995)</td>\n",
       "      <td>Adventure|Children</td>\n",
       "    </tr>\n",
       "    <tr>\n",
       "      <th>8</th>\n",
       "      <td>9</td>\n",
       "      <td>Sudden Death (1995)</td>\n",
       "      <td>Action</td>\n",
       "    </tr>\n",
       "    <tr>\n",
       "      <th>9</th>\n",
       "      <td>10</td>\n",
       "      <td>GoldenEye (1995)</td>\n",
       "      <td>Action|Adventure|Thriller</td>\n",
       "    </tr>\n",
       "    <tr>\n",
       "      <th>10</th>\n",
       "      <td>11</td>\n",
       "      <td>American President, The (1995)</td>\n",
       "      <td>Comedy|Drama|Romance</td>\n",
       "    </tr>\n",
       "    <tr>\n",
       "      <th>11</th>\n",
       "      <td>12</td>\n",
       "      <td>Dracula: Dead and Loving It (1995)</td>\n",
       "      <td>Comedy|Horror</td>\n",
       "    </tr>\n",
       "    <tr>\n",
       "      <th>12</th>\n",
       "      <td>13</td>\n",
       "      <td>Balto (1995)</td>\n",
       "      <td>Animation|Children</td>\n",
       "    </tr>\n",
       "    <tr>\n",
       "      <th>13</th>\n",
       "      <td>14</td>\n",
       "      <td>Nixon (1995)</td>\n",
       "      <td>Drama</td>\n",
       "    </tr>\n",
       "    <tr>\n",
       "      <th>14</th>\n",
       "      <td>15</td>\n",
       "      <td>Cutthroat Island (1995)</td>\n",
       "      <td>Action|Adventure|Romance</td>\n",
       "    </tr>\n",
       "    <tr>\n",
       "      <th>15</th>\n",
       "      <td>16</td>\n",
       "      <td>Casino (1995)</td>\n",
       "      <td>Crime|Drama</td>\n",
       "    </tr>\n",
       "    <tr>\n",
       "      <th>16</th>\n",
       "      <td>17</td>\n",
       "      <td>Sense and Sensibility (1995)</td>\n",
       "      <td>Comedy|Drama|Romance</td>\n",
       "    </tr>\n",
       "    <tr>\n",
       "      <th>17</th>\n",
       "      <td>18</td>\n",
       "      <td>Four Rooms (1995)</td>\n",
       "      <td>Comedy|Drama|Thriller</td>\n",
       "    </tr>\n",
       "    <tr>\n",
       "      <th>18</th>\n",
       "      <td>19</td>\n",
       "      <td>Ace Ventura: When Nature Calls (1995)</td>\n",
       "      <td>Comedy</td>\n",
       "    </tr>\n",
       "    <tr>\n",
       "      <th>19</th>\n",
       "      <td>20</td>\n",
       "      <td>Money Train (1995)</td>\n",
       "      <td>Action|Comedy|Crime|Drama|Thriller</td>\n",
       "    </tr>\n",
       "    <tr>\n",
       "      <th>20</th>\n",
       "      <td>21</td>\n",
       "      <td>Get Shorty (1995)</td>\n",
       "      <td>Action|Comedy|Drama</td>\n",
       "    </tr>\n",
       "    <tr>\n",
       "      <th>21</th>\n",
       "      <td>22</td>\n",
       "      <td>Copycat (1995)</td>\n",
       "      <td>Crime|Drama|Horror|Mystery|Thriller</td>\n",
       "    </tr>\n",
       "    <tr>\n",
       "      <th>22</th>\n",
       "      <td>23</td>\n",
       "      <td>Assassins (1995)</td>\n",
       "      <td>Action|Crime|Thriller</td>\n",
       "    </tr>\n",
       "    <tr>\n",
       "      <th>23</th>\n",
       "      <td>24</td>\n",
       "      <td>Powder (1995)</td>\n",
       "      <td>Drama|Sci-Fi</td>\n",
       "    </tr>\n",
       "    <tr>\n",
       "      <th>24</th>\n",
       "      <td>25</td>\n",
       "      <td>Leaving Las Vegas (1995)</td>\n",
       "      <td>Drama|Romance</td>\n",
       "    </tr>\n",
       "    <tr>\n",
       "      <th>25</th>\n",
       "      <td>26</td>\n",
       "      <td>Othello (1995)</td>\n",
       "      <td>Drama</td>\n",
       "    </tr>\n",
       "    <tr>\n",
       "      <th>26</th>\n",
       "      <td>27</td>\n",
       "      <td>Now and Then (1995)</td>\n",
       "      <td>Drama</td>\n",
       "    </tr>\n",
       "    <tr>\n",
       "      <th>27</th>\n",
       "      <td>28</td>\n",
       "      <td>Persuasion (1995)</td>\n",
       "      <td>Drama|Romance</td>\n",
       "    </tr>\n",
       "    <tr>\n",
       "      <th>28</th>\n",
       "      <td>29</td>\n",
       "      <td>City of Lost Children, The (Cité des enfants p...</td>\n",
       "      <td>Adventure|Drama|Fantasy|Mystery|Sci-Fi</td>\n",
       "    </tr>\n",
       "    <tr>\n",
       "      <th>29</th>\n",
       "      <td>30</td>\n",
       "      <td>Shanghai Triad (Yao a yao yao dao waipo qiao) ...</td>\n",
       "      <td>Crime|Drama</td>\n",
       "    </tr>\n",
       "    <tr>\n",
       "      <th>...</th>\n",
       "      <td>...</td>\n",
       "      <td>...</td>\n",
       "      <td>...</td>\n",
       "    </tr>\n",
       "    <tr>\n",
       "      <th>10651</th>\n",
       "      <td>64906</td>\n",
       "      <td>Battle of Britain, The (Why We Fight, 4) (1943)</td>\n",
       "      <td>Documentary|War</td>\n",
       "    </tr>\n",
       "    <tr>\n",
       "      <th>10652</th>\n",
       "      <td>64918</td>\n",
       "      <td>Small Cuts (Petites coupures) (2003)</td>\n",
       "      <td>Drama|Romance</td>\n",
       "    </tr>\n",
       "    <tr>\n",
       "      <th>10653</th>\n",
       "      <td>64921</td>\n",
       "      <td>Arabian Nights (1942)</td>\n",
       "      <td>Action|Adventure</td>\n",
       "    </tr>\n",
       "    <tr>\n",
       "      <th>10654</th>\n",
       "      <td>64923</td>\n",
       "      <td>Blackbird, The (1926)</td>\n",
       "      <td>Crime|Drama</td>\n",
       "    </tr>\n",
       "    <tr>\n",
       "      <th>10655</th>\n",
       "      <td>64926</td>\n",
       "      <td>Battle of Russia, The (Why We Fight, 5) (1943)</td>\n",
       "      <td>Documentary|War</td>\n",
       "    </tr>\n",
       "    <tr>\n",
       "      <th>10656</th>\n",
       "      <td>64930</td>\n",
       "      <td>More the Merrier, The (1943)</td>\n",
       "      <td>Comedy|Romance</td>\n",
       "    </tr>\n",
       "    <tr>\n",
       "      <th>10657</th>\n",
       "      <td>64942</td>\n",
       "      <td>Tuya's Marriage (Tuya de hun shi) (2006)</td>\n",
       "      <td>Drama|Romance</td>\n",
       "    </tr>\n",
       "    <tr>\n",
       "      <th>10658</th>\n",
       "      <td>64944</td>\n",
       "      <td>Face of a Fugitive (1959)</td>\n",
       "      <td>Western</td>\n",
       "    </tr>\n",
       "    <tr>\n",
       "      <th>10659</th>\n",
       "      <td>64953</td>\n",
       "      <td>Dirty Dozen, The: The Fatal Mission (1988)</td>\n",
       "      <td>Action|Adventure|War</td>\n",
       "    </tr>\n",
       "    <tr>\n",
       "      <th>10660</th>\n",
       "      <td>64957</td>\n",
       "      <td>Curious Case of Benjamin Button, The (2008)</td>\n",
       "      <td>Drama|Fantasy|Mystery|Romance</td>\n",
       "    </tr>\n",
       "    <tr>\n",
       "      <th>10661</th>\n",
       "      <td>64959</td>\n",
       "      <td>Divide and Conquer (Why We Fight, 3) (1943)</td>\n",
       "      <td>Documentary|War</td>\n",
       "    </tr>\n",
       "    <tr>\n",
       "      <th>10662</th>\n",
       "      <td>64969</td>\n",
       "      <td>Yes Man (2008)</td>\n",
       "      <td>Comedy</td>\n",
       "    </tr>\n",
       "    <tr>\n",
       "      <th>10663</th>\n",
       "      <td>64976</td>\n",
       "      <td>Hexed (1993)</td>\n",
       "      <td>Comedy</td>\n",
       "    </tr>\n",
       "    <tr>\n",
       "      <th>10664</th>\n",
       "      <td>64983</td>\n",
       "      <td>Valkyrie (2008)</td>\n",
       "      <td>Drama|Thriller|War</td>\n",
       "    </tr>\n",
       "    <tr>\n",
       "      <th>10665</th>\n",
       "      <td>64986</td>\n",
       "      <td>Birds of America (2008)</td>\n",
       "      <td>Comedy|Drama</td>\n",
       "    </tr>\n",
       "    <tr>\n",
       "      <th>10666</th>\n",
       "      <td>64990</td>\n",
       "      <td>Pete Seeger: The Power of Song (2007)</td>\n",
       "      <td>Documentary</td>\n",
       "    </tr>\n",
       "    <tr>\n",
       "      <th>10667</th>\n",
       "      <td>64993</td>\n",
       "      <td>5 Centimeters per Second (Byôsoku 5 senchimêto...</td>\n",
       "      <td>Animation|Drama|Romance</td>\n",
       "    </tr>\n",
       "    <tr>\n",
       "      <th>10668</th>\n",
       "      <td>64997</td>\n",
       "      <td>War of the Worlds (2005)</td>\n",
       "      <td>Action</td>\n",
       "    </tr>\n",
       "    <tr>\n",
       "      <th>10669</th>\n",
       "      <td>64999</td>\n",
       "      <td>War of the Worlds 2: The Next Wave (2008)</td>\n",
       "      <td>Action</td>\n",
       "    </tr>\n",
       "    <tr>\n",
       "      <th>10670</th>\n",
       "      <td>65001</td>\n",
       "      <td>Constantine's Sword (2007)</td>\n",
       "      <td>Documentary</td>\n",
       "    </tr>\n",
       "    <tr>\n",
       "      <th>10671</th>\n",
       "      <td>65006</td>\n",
       "      <td>Impulse (2008)</td>\n",
       "      <td>Mystery|Thriller</td>\n",
       "    </tr>\n",
       "    <tr>\n",
       "      <th>10672</th>\n",
       "      <td>65011</td>\n",
       "      <td>Zona Zamfirova (2002)</td>\n",
       "      <td>Comedy|Drama</td>\n",
       "    </tr>\n",
       "    <tr>\n",
       "      <th>10673</th>\n",
       "      <td>65025</td>\n",
       "      <td>Double Dynamite (1951)</td>\n",
       "      <td>Comedy|Musical</td>\n",
       "    </tr>\n",
       "    <tr>\n",
       "      <th>10674</th>\n",
       "      <td>65027</td>\n",
       "      <td>Death Kiss, The (1933)</td>\n",
       "      <td>Comedy|Mystery</td>\n",
       "    </tr>\n",
       "    <tr>\n",
       "      <th>10675</th>\n",
       "      <td>65037</td>\n",
       "      <td>Ben X (2007)</td>\n",
       "      <td>Drama</td>\n",
       "    </tr>\n",
       "    <tr>\n",
       "      <th>10676</th>\n",
       "      <td>65088</td>\n",
       "      <td>Bedtime Stories (2008)</td>\n",
       "      <td>Adventure|Children|Comedy</td>\n",
       "    </tr>\n",
       "    <tr>\n",
       "      <th>10677</th>\n",
       "      <td>65091</td>\n",
       "      <td>Manhattan Melodrama (1934)</td>\n",
       "      <td>Crime|Drama|Romance</td>\n",
       "    </tr>\n",
       "    <tr>\n",
       "      <th>10678</th>\n",
       "      <td>65126</td>\n",
       "      <td>Choke (2008)</td>\n",
       "      <td>Comedy|Drama</td>\n",
       "    </tr>\n",
       "    <tr>\n",
       "      <th>10679</th>\n",
       "      <td>65130</td>\n",
       "      <td>Revolutionary Road (2008)</td>\n",
       "      <td>Drama|Romance</td>\n",
       "    </tr>\n",
       "    <tr>\n",
       "      <th>10680</th>\n",
       "      <td>65133</td>\n",
       "      <td>Blackadder Back &amp; Forth (1999)</td>\n",
       "      <td>Comedy</td>\n",
       "    </tr>\n",
       "  </tbody>\n",
       "</table>\n",
       "<p>10681 rows × 3 columns</p>\n",
       "</div>"
      ],
      "text/plain": [
       "       movieId                                              title  \\\n",
       "0            1                                   Toy Story (1995)   \n",
       "1            2                                     Jumanji (1995)   \n",
       "2            3                            Grumpier Old Men (1995)   \n",
       "3            4                           Waiting to Exhale (1995)   \n",
       "4            5                 Father of the Bride Part II (1995)   \n",
       "5            6                                        Heat (1995)   \n",
       "6            7                                     Sabrina (1995)   \n",
       "7            8                                Tom and Huck (1995)   \n",
       "8            9                                Sudden Death (1995)   \n",
       "9           10                                   GoldenEye (1995)   \n",
       "10          11                     American President, The (1995)   \n",
       "11          12                 Dracula: Dead and Loving It (1995)   \n",
       "12          13                                       Balto (1995)   \n",
       "13          14                                       Nixon (1995)   \n",
       "14          15                            Cutthroat Island (1995)   \n",
       "15          16                                      Casino (1995)   \n",
       "16          17                       Sense and Sensibility (1995)   \n",
       "17          18                                  Four Rooms (1995)   \n",
       "18          19              Ace Ventura: When Nature Calls (1995)   \n",
       "19          20                                 Money Train (1995)   \n",
       "20          21                                  Get Shorty (1995)   \n",
       "21          22                                     Copycat (1995)   \n",
       "22          23                                   Assassins (1995)   \n",
       "23          24                                      Powder (1995)   \n",
       "24          25                           Leaving Las Vegas (1995)   \n",
       "25          26                                     Othello (1995)   \n",
       "26          27                                Now and Then (1995)   \n",
       "27          28                                  Persuasion (1995)   \n",
       "28          29  City of Lost Children, The (Cité des enfants p...   \n",
       "29          30  Shanghai Triad (Yao a yao yao dao waipo qiao) ...   \n",
       "...        ...                                                ...   \n",
       "10651    64906    Battle of Britain, The (Why We Fight, 4) (1943)   \n",
       "10652    64918               Small Cuts (Petites coupures) (2003)   \n",
       "10653    64921                              Arabian Nights (1942)   \n",
       "10654    64923                              Blackbird, The (1926)   \n",
       "10655    64926     Battle of Russia, The (Why We Fight, 5) (1943)   \n",
       "10656    64930                       More the Merrier, The (1943)   \n",
       "10657    64942           Tuya's Marriage (Tuya de hun shi) (2006)   \n",
       "10658    64944                          Face of a Fugitive (1959)   \n",
       "10659    64953         Dirty Dozen, The: The Fatal Mission (1988)   \n",
       "10660    64957        Curious Case of Benjamin Button, The (2008)   \n",
       "10661    64959        Divide and Conquer (Why We Fight, 3) (1943)   \n",
       "10662    64969                                     Yes Man (2008)   \n",
       "10663    64976                                       Hexed (1993)   \n",
       "10664    64983                                    Valkyrie (2008)   \n",
       "10665    64986                            Birds of America (2008)   \n",
       "10666    64990              Pete Seeger: The Power of Song (2007)   \n",
       "10667    64993  5 Centimeters per Second (Byôsoku 5 senchimêto...   \n",
       "10668    64997                           War of the Worlds (2005)   \n",
       "10669    64999          War of the Worlds 2: The Next Wave (2008)   \n",
       "10670    65001                         Constantine's Sword (2007)   \n",
       "10671    65006                                     Impulse (2008)   \n",
       "10672    65011                              Zona Zamfirova (2002)   \n",
       "10673    65025                             Double Dynamite (1951)   \n",
       "10674    65027                             Death Kiss, The (1933)   \n",
       "10675    65037                                       Ben X (2007)   \n",
       "10676    65088                             Bedtime Stories (2008)   \n",
       "10677    65091                         Manhattan Melodrama (1934)   \n",
       "10678    65126                                       Choke (2008)   \n",
       "10679    65130                          Revolutionary Road (2008)   \n",
       "10680    65133                     Blackadder Back & Forth (1999)   \n",
       "\n",
       "                                            genres  \n",
       "0      Adventure|Animation|Children|Comedy|Fantasy  \n",
       "1                       Adventure|Children|Fantasy  \n",
       "2                                   Comedy|Romance  \n",
       "3                             Comedy|Drama|Romance  \n",
       "4                                           Comedy  \n",
       "5                            Action|Crime|Thriller  \n",
       "6                                   Comedy|Romance  \n",
       "7                               Adventure|Children  \n",
       "8                                           Action  \n",
       "9                        Action|Adventure|Thriller  \n",
       "10                            Comedy|Drama|Romance  \n",
       "11                                   Comedy|Horror  \n",
       "12                              Animation|Children  \n",
       "13                                           Drama  \n",
       "14                        Action|Adventure|Romance  \n",
       "15                                     Crime|Drama  \n",
       "16                            Comedy|Drama|Romance  \n",
       "17                           Comedy|Drama|Thriller  \n",
       "18                                          Comedy  \n",
       "19              Action|Comedy|Crime|Drama|Thriller  \n",
       "20                             Action|Comedy|Drama  \n",
       "21             Crime|Drama|Horror|Mystery|Thriller  \n",
       "22                           Action|Crime|Thriller  \n",
       "23                                    Drama|Sci-Fi  \n",
       "24                                   Drama|Romance  \n",
       "25                                           Drama  \n",
       "26                                           Drama  \n",
       "27                                   Drama|Romance  \n",
       "28          Adventure|Drama|Fantasy|Mystery|Sci-Fi  \n",
       "29                                     Crime|Drama  \n",
       "...                                            ...  \n",
       "10651                              Documentary|War  \n",
       "10652                                Drama|Romance  \n",
       "10653                             Action|Adventure  \n",
       "10654                                  Crime|Drama  \n",
       "10655                              Documentary|War  \n",
       "10656                               Comedy|Romance  \n",
       "10657                                Drama|Romance  \n",
       "10658                                      Western  \n",
       "10659                         Action|Adventure|War  \n",
       "10660                Drama|Fantasy|Mystery|Romance  \n",
       "10661                              Documentary|War  \n",
       "10662                                       Comedy  \n",
       "10663                                       Comedy  \n",
       "10664                           Drama|Thriller|War  \n",
       "10665                                 Comedy|Drama  \n",
       "10666                                  Documentary  \n",
       "10667                      Animation|Drama|Romance  \n",
       "10668                                       Action  \n",
       "10669                                       Action  \n",
       "10670                                  Documentary  \n",
       "10671                             Mystery|Thriller  \n",
       "10672                                 Comedy|Drama  \n",
       "10673                               Comedy|Musical  \n",
       "10674                               Comedy|Mystery  \n",
       "10675                                        Drama  \n",
       "10676                    Adventure|Children|Comedy  \n",
       "10677                          Crime|Drama|Romance  \n",
       "10678                                 Comedy|Drama  \n",
       "10679                                Drama|Romance  \n",
       "10680                                       Comedy  \n",
       "\n",
       "[10681 rows x 3 columns]"
      ]
     },
     "execution_count": 4,
     "metadata": {},
     "output_type": "execute_result"
    }
   ],
   "source": [
    "movies"
   ]
  },
  {
   "cell_type": "code",
   "execution_count": 5,
   "metadata": {
    "collapsed": false,
    "scrolled": true
   },
   "outputs": [
    {
     "data": {
      "text/html": [
       "<div>\n",
       "<table border=\"1\" class=\"dataframe\">\n",
       "  <thead>\n",
       "    <tr style=\"text-align: right;\">\n",
       "      <th></th>\n",
       "      <th>userId</th>\n",
       "      <th>movieId</th>\n",
       "      <th>rating</th>\n",
       "      <th>timestamp</th>\n",
       "    </tr>\n",
       "  </thead>\n",
       "  <tbody>\n",
       "    <tr>\n",
       "      <th>0</th>\n",
       "      <td>1</td>\n",
       "      <td>122</td>\n",
       "      <td>5.0</td>\n",
       "      <td>838985046</td>\n",
       "    </tr>\n",
       "    <tr>\n",
       "      <th>1</th>\n",
       "      <td>1</td>\n",
       "      <td>185</td>\n",
       "      <td>5.0</td>\n",
       "      <td>838983525</td>\n",
       "    </tr>\n",
       "    <tr>\n",
       "      <th>2</th>\n",
       "      <td>1</td>\n",
       "      <td>231</td>\n",
       "      <td>5.0</td>\n",
       "      <td>838983392</td>\n",
       "    </tr>\n",
       "    <tr>\n",
       "      <th>3</th>\n",
       "      <td>1</td>\n",
       "      <td>292</td>\n",
       "      <td>5.0</td>\n",
       "      <td>838983421</td>\n",
       "    </tr>\n",
       "    <tr>\n",
       "      <th>4</th>\n",
       "      <td>1</td>\n",
       "      <td>316</td>\n",
       "      <td>5.0</td>\n",
       "      <td>838983392</td>\n",
       "    </tr>\n",
       "    <tr>\n",
       "      <th>5</th>\n",
       "      <td>1</td>\n",
       "      <td>329</td>\n",
       "      <td>5.0</td>\n",
       "      <td>838983392</td>\n",
       "    </tr>\n",
       "    <tr>\n",
       "      <th>6</th>\n",
       "      <td>1</td>\n",
       "      <td>355</td>\n",
       "      <td>5.0</td>\n",
       "      <td>838984474</td>\n",
       "    </tr>\n",
       "    <tr>\n",
       "      <th>7</th>\n",
       "      <td>1</td>\n",
       "      <td>356</td>\n",
       "      <td>5.0</td>\n",
       "      <td>838983653</td>\n",
       "    </tr>\n",
       "    <tr>\n",
       "      <th>8</th>\n",
       "      <td>1</td>\n",
       "      <td>362</td>\n",
       "      <td>5.0</td>\n",
       "      <td>838984885</td>\n",
       "    </tr>\n",
       "    <tr>\n",
       "      <th>9</th>\n",
       "      <td>1</td>\n",
       "      <td>364</td>\n",
       "      <td>5.0</td>\n",
       "      <td>838983707</td>\n",
       "    </tr>\n",
       "    <tr>\n",
       "      <th>10</th>\n",
       "      <td>1</td>\n",
       "      <td>370</td>\n",
       "      <td>5.0</td>\n",
       "      <td>838984596</td>\n",
       "    </tr>\n",
       "    <tr>\n",
       "      <th>11</th>\n",
       "      <td>1</td>\n",
       "      <td>377</td>\n",
       "      <td>5.0</td>\n",
       "      <td>838983834</td>\n",
       "    </tr>\n",
       "    <tr>\n",
       "      <th>12</th>\n",
       "      <td>1</td>\n",
       "      <td>420</td>\n",
       "      <td>5.0</td>\n",
       "      <td>838983834</td>\n",
       "    </tr>\n",
       "    <tr>\n",
       "      <th>13</th>\n",
       "      <td>1</td>\n",
       "      <td>466</td>\n",
       "      <td>5.0</td>\n",
       "      <td>838984679</td>\n",
       "    </tr>\n",
       "    <tr>\n",
       "      <th>14</th>\n",
       "      <td>1</td>\n",
       "      <td>480</td>\n",
       "      <td>5.0</td>\n",
       "      <td>838983653</td>\n",
       "    </tr>\n",
       "    <tr>\n",
       "      <th>15</th>\n",
       "      <td>1</td>\n",
       "      <td>520</td>\n",
       "      <td>5.0</td>\n",
       "      <td>838984679</td>\n",
       "    </tr>\n",
       "    <tr>\n",
       "      <th>16</th>\n",
       "      <td>1</td>\n",
       "      <td>539</td>\n",
       "      <td>5.0</td>\n",
       "      <td>838984068</td>\n",
       "    </tr>\n",
       "    <tr>\n",
       "      <th>17</th>\n",
       "      <td>1</td>\n",
       "      <td>586</td>\n",
       "      <td>5.0</td>\n",
       "      <td>838984068</td>\n",
       "    </tr>\n",
       "    <tr>\n",
       "      <th>18</th>\n",
       "      <td>1</td>\n",
       "      <td>588</td>\n",
       "      <td>5.0</td>\n",
       "      <td>838983339</td>\n",
       "    </tr>\n",
       "    <tr>\n",
       "      <th>19</th>\n",
       "      <td>1</td>\n",
       "      <td>589</td>\n",
       "      <td>5.0</td>\n",
       "      <td>838983778</td>\n",
       "    </tr>\n",
       "    <tr>\n",
       "      <th>20</th>\n",
       "      <td>1</td>\n",
       "      <td>594</td>\n",
       "      <td>5.0</td>\n",
       "      <td>838984679</td>\n",
       "    </tr>\n",
       "    <tr>\n",
       "      <th>21</th>\n",
       "      <td>1</td>\n",
       "      <td>616</td>\n",
       "      <td>5.0</td>\n",
       "      <td>838984941</td>\n",
       "    </tr>\n",
       "    <tr>\n",
       "      <th>22</th>\n",
       "      <td>2</td>\n",
       "      <td>110</td>\n",
       "      <td>5.0</td>\n",
       "      <td>868245777</td>\n",
       "    </tr>\n",
       "    <tr>\n",
       "      <th>23</th>\n",
       "      <td>2</td>\n",
       "      <td>151</td>\n",
       "      <td>3.0</td>\n",
       "      <td>868246450</td>\n",
       "    </tr>\n",
       "    <tr>\n",
       "      <th>24</th>\n",
       "      <td>2</td>\n",
       "      <td>260</td>\n",
       "      <td>5.0</td>\n",
       "      <td>868244562</td>\n",
       "    </tr>\n",
       "    <tr>\n",
       "      <th>25</th>\n",
       "      <td>2</td>\n",
       "      <td>376</td>\n",
       "      <td>3.0</td>\n",
       "      <td>868245920</td>\n",
       "    </tr>\n",
       "    <tr>\n",
       "      <th>26</th>\n",
       "      <td>2</td>\n",
       "      <td>539</td>\n",
       "      <td>3.0</td>\n",
       "      <td>868246262</td>\n",
       "    </tr>\n",
       "    <tr>\n",
       "      <th>27</th>\n",
       "      <td>2</td>\n",
       "      <td>590</td>\n",
       "      <td>5.0</td>\n",
       "      <td>868245608</td>\n",
       "    </tr>\n",
       "    <tr>\n",
       "      <th>28</th>\n",
       "      <td>2</td>\n",
       "      <td>648</td>\n",
       "      <td>2.0</td>\n",
       "      <td>868244699</td>\n",
       "    </tr>\n",
       "    <tr>\n",
       "      <th>29</th>\n",
       "      <td>2</td>\n",
       "      <td>719</td>\n",
       "      <td>3.0</td>\n",
       "      <td>868246191</td>\n",
       "    </tr>\n",
       "    <tr>\n",
       "      <th>...</th>\n",
       "      <td>...</td>\n",
       "      <td>...</td>\n",
       "      <td>...</td>\n",
       "      <td>...</td>\n",
       "    </tr>\n",
       "    <tr>\n",
       "      <th>10000024</th>\n",
       "      <td>71567</td>\n",
       "      <td>1396</td>\n",
       "      <td>3.0</td>\n",
       "      <td>912580688</td>\n",
       "    </tr>\n",
       "    <tr>\n",
       "      <th>10000025</th>\n",
       "      <td>71567</td>\n",
       "      <td>1407</td>\n",
       "      <td>2.0</td>\n",
       "      <td>912578457</td>\n",
       "    </tr>\n",
       "    <tr>\n",
       "      <th>10000026</th>\n",
       "      <td>71567</td>\n",
       "      <td>1527</td>\n",
       "      <td>5.0</td>\n",
       "      <td>912580647</td>\n",
       "    </tr>\n",
       "    <tr>\n",
       "      <th>10000027</th>\n",
       "      <td>71567</td>\n",
       "      <td>1580</td>\n",
       "      <td>3.0</td>\n",
       "      <td>912580688</td>\n",
       "    </tr>\n",
       "    <tr>\n",
       "      <th>10000028</th>\n",
       "      <td>71567</td>\n",
       "      <td>1584</td>\n",
       "      <td>3.0</td>\n",
       "      <td>912580647</td>\n",
       "    </tr>\n",
       "    <tr>\n",
       "      <th>10000029</th>\n",
       "      <td>71567</td>\n",
       "      <td>1598</td>\n",
       "      <td>2.0</td>\n",
       "      <td>912649143</td>\n",
       "    </tr>\n",
       "    <tr>\n",
       "      <th>10000030</th>\n",
       "      <td>71567</td>\n",
       "      <td>1690</td>\n",
       "      <td>3.0</td>\n",
       "      <td>912578406</td>\n",
       "    </tr>\n",
       "    <tr>\n",
       "      <th>10000031</th>\n",
       "      <td>71567</td>\n",
       "      <td>1717</td>\n",
       "      <td>1.0</td>\n",
       "      <td>912578457</td>\n",
       "    </tr>\n",
       "    <tr>\n",
       "      <th>10000032</th>\n",
       "      <td>71567</td>\n",
       "      <td>1721</td>\n",
       "      <td>4.0</td>\n",
       "      <td>912649271</td>\n",
       "    </tr>\n",
       "    <tr>\n",
       "      <th>10000033</th>\n",
       "      <td>71567</td>\n",
       "      <td>1748</td>\n",
       "      <td>3.0</td>\n",
       "      <td>912580647</td>\n",
       "    </tr>\n",
       "    <tr>\n",
       "      <th>10000034</th>\n",
       "      <td>71567</td>\n",
       "      <td>1769</td>\n",
       "      <td>3.0</td>\n",
       "      <td>912649037</td>\n",
       "    </tr>\n",
       "    <tr>\n",
       "      <th>10000035</th>\n",
       "      <td>71567</td>\n",
       "      <td>1792</td>\n",
       "      <td>2.0</td>\n",
       "      <td>912649171</td>\n",
       "    </tr>\n",
       "    <tr>\n",
       "      <th>10000036</th>\n",
       "      <td>71567</td>\n",
       "      <td>1805</td>\n",
       "      <td>4.0</td>\n",
       "      <td>912649010</td>\n",
       "    </tr>\n",
       "    <tr>\n",
       "      <th>10000037</th>\n",
       "      <td>71567</td>\n",
       "      <td>1833</td>\n",
       "      <td>3.0</td>\n",
       "      <td>912649171</td>\n",
       "    </tr>\n",
       "    <tr>\n",
       "      <th>10000038</th>\n",
       "      <td>71567</td>\n",
       "      <td>1876</td>\n",
       "      <td>3.0</td>\n",
       "      <td>912580722</td>\n",
       "    </tr>\n",
       "    <tr>\n",
       "      <th>10000039</th>\n",
       "      <td>71567</td>\n",
       "      <td>1909</td>\n",
       "      <td>2.0</td>\n",
       "      <td>912580688</td>\n",
       "    </tr>\n",
       "    <tr>\n",
       "      <th>10000040</th>\n",
       "      <td>71567</td>\n",
       "      <td>1917</td>\n",
       "      <td>4.0</td>\n",
       "      <td>912580787</td>\n",
       "    </tr>\n",
       "    <tr>\n",
       "      <th>10000041</th>\n",
       "      <td>71567</td>\n",
       "      <td>1920</td>\n",
       "      <td>4.0</td>\n",
       "      <td>912578247</td>\n",
       "    </tr>\n",
       "    <tr>\n",
       "      <th>10000042</th>\n",
       "      <td>71567</td>\n",
       "      <td>1982</td>\n",
       "      <td>1.0</td>\n",
       "      <td>912580553</td>\n",
       "    </tr>\n",
       "    <tr>\n",
       "      <th>10000043</th>\n",
       "      <td>71567</td>\n",
       "      <td>1983</td>\n",
       "      <td>1.0</td>\n",
       "      <td>912580553</td>\n",
       "    </tr>\n",
       "    <tr>\n",
       "      <th>10000044</th>\n",
       "      <td>71567</td>\n",
       "      <td>1984</td>\n",
       "      <td>1.0</td>\n",
       "      <td>912580553</td>\n",
       "    </tr>\n",
       "    <tr>\n",
       "      <th>10000045</th>\n",
       "      <td>71567</td>\n",
       "      <td>1985</td>\n",
       "      <td>1.0</td>\n",
       "      <td>912580553</td>\n",
       "    </tr>\n",
       "    <tr>\n",
       "      <th>10000046</th>\n",
       "      <td>71567</td>\n",
       "      <td>1986</td>\n",
       "      <td>1.0</td>\n",
       "      <td>912580553</td>\n",
       "    </tr>\n",
       "    <tr>\n",
       "      <th>10000047</th>\n",
       "      <td>71567</td>\n",
       "      <td>2012</td>\n",
       "      <td>3.0</td>\n",
       "      <td>912580722</td>\n",
       "    </tr>\n",
       "    <tr>\n",
       "      <th>10000048</th>\n",
       "      <td>71567</td>\n",
       "      <td>2028</td>\n",
       "      <td>5.0</td>\n",
       "      <td>912580344</td>\n",
       "    </tr>\n",
       "    <tr>\n",
       "      <th>10000049</th>\n",
       "      <td>71567</td>\n",
       "      <td>2107</td>\n",
       "      <td>1.0</td>\n",
       "      <td>912580553</td>\n",
       "    </tr>\n",
       "    <tr>\n",
       "      <th>10000050</th>\n",
       "      <td>71567</td>\n",
       "      <td>2126</td>\n",
       "      <td>2.0</td>\n",
       "      <td>912649143</td>\n",
       "    </tr>\n",
       "    <tr>\n",
       "      <th>10000051</th>\n",
       "      <td>71567</td>\n",
       "      <td>2294</td>\n",
       "      <td>5.0</td>\n",
       "      <td>912577968</td>\n",
       "    </tr>\n",
       "    <tr>\n",
       "      <th>10000052</th>\n",
       "      <td>71567</td>\n",
       "      <td>2338</td>\n",
       "      <td>2.0</td>\n",
       "      <td>912578016</td>\n",
       "    </tr>\n",
       "    <tr>\n",
       "      <th>10000053</th>\n",
       "      <td>71567</td>\n",
       "      <td>2384</td>\n",
       "      <td>2.0</td>\n",
       "      <td>912578173</td>\n",
       "    </tr>\n",
       "  </tbody>\n",
       "</table>\n",
       "<p>10000054 rows × 4 columns</p>\n",
       "</div>"
      ],
      "text/plain": [
       "          userId  movieId  rating  timestamp\n",
       "0              1      122     5.0  838985046\n",
       "1              1      185     5.0  838983525\n",
       "2              1      231     5.0  838983392\n",
       "3              1      292     5.0  838983421\n",
       "4              1      316     5.0  838983392\n",
       "5              1      329     5.0  838983392\n",
       "6              1      355     5.0  838984474\n",
       "7              1      356     5.0  838983653\n",
       "8              1      362     5.0  838984885\n",
       "9              1      364     5.0  838983707\n",
       "10             1      370     5.0  838984596\n",
       "11             1      377     5.0  838983834\n",
       "12             1      420     5.0  838983834\n",
       "13             1      466     5.0  838984679\n",
       "14             1      480     5.0  838983653\n",
       "15             1      520     5.0  838984679\n",
       "16             1      539     5.0  838984068\n",
       "17             1      586     5.0  838984068\n",
       "18             1      588     5.0  838983339\n",
       "19             1      589     5.0  838983778\n",
       "20             1      594     5.0  838984679\n",
       "21             1      616     5.0  838984941\n",
       "22             2      110     5.0  868245777\n",
       "23             2      151     3.0  868246450\n",
       "24             2      260     5.0  868244562\n",
       "25             2      376     3.0  868245920\n",
       "26             2      539     3.0  868246262\n",
       "27             2      590     5.0  868245608\n",
       "28             2      648     2.0  868244699\n",
       "29             2      719     3.0  868246191\n",
       "...          ...      ...     ...        ...\n",
       "10000024   71567     1396     3.0  912580688\n",
       "10000025   71567     1407     2.0  912578457\n",
       "10000026   71567     1527     5.0  912580647\n",
       "10000027   71567     1580     3.0  912580688\n",
       "10000028   71567     1584     3.0  912580647\n",
       "10000029   71567     1598     2.0  912649143\n",
       "10000030   71567     1690     3.0  912578406\n",
       "10000031   71567     1717     1.0  912578457\n",
       "10000032   71567     1721     4.0  912649271\n",
       "10000033   71567     1748     3.0  912580647\n",
       "10000034   71567     1769     3.0  912649037\n",
       "10000035   71567     1792     2.0  912649171\n",
       "10000036   71567     1805     4.0  912649010\n",
       "10000037   71567     1833     3.0  912649171\n",
       "10000038   71567     1876     3.0  912580722\n",
       "10000039   71567     1909     2.0  912580688\n",
       "10000040   71567     1917     4.0  912580787\n",
       "10000041   71567     1920     4.0  912578247\n",
       "10000042   71567     1982     1.0  912580553\n",
       "10000043   71567     1983     1.0  912580553\n",
       "10000044   71567     1984     1.0  912580553\n",
       "10000045   71567     1985     1.0  912580553\n",
       "10000046   71567     1986     1.0  912580553\n",
       "10000047   71567     2012     3.0  912580722\n",
       "10000048   71567     2028     5.0  912580344\n",
       "10000049   71567     2107     1.0  912580553\n",
       "10000050   71567     2126     2.0  912649143\n",
       "10000051   71567     2294     5.0  912577968\n",
       "10000052   71567     2338     2.0  912578016\n",
       "10000053   71567     2384     2.0  912578173\n",
       "\n",
       "[10000054 rows x 4 columns]"
      ]
     },
     "execution_count": 5,
     "metadata": {},
     "output_type": "execute_result"
    }
   ],
   "source": [
    "ratings"
   ]
  },
  {
   "cell_type": "code",
   "execution_count": 12,
   "metadata": {
    "collapsed": false
   },
   "outputs": [],
   "source": [
    "movie_index = {k:v for (v,k) in movies.movieId.to_dict().items()}"
   ]
  },
  {
   "cell_type": "code",
   "execution_count": 17,
   "metadata": {
    "collapsed": false
   },
   "outputs": [],
   "source": [
    "movie_count = len(movies)\n",
    "user_count = max(ratings.userId)\n",
    "\n",
    "mean_score = ratings.rating.values.mean()"
   ]
  },
  {
   "cell_type": "code",
   "execution_count": 37,
   "metadata": {
    "collapsed": false
   },
   "outputs": [],
   "source": [
    "all_scores = np.zeros((user_count, movie_count))\n",
    "for (user, movie, rating, _) in ratings.values:\n",
    "    all_scores[int(user)-1, movie_index[int(movie)]] = rating\n",
    "all_scores = all_scores[np.where(all_scores.sum(axis=1) > 0)[0]]"
   ]
  },
  {
   "cell_type": "code",
   "execution_count": 19,
   "metadata": {
    "collapsed": true
   },
   "outputs": [],
   "source": [
    "def train_test_split(scores, seed=1234, set_seed=True):\n",
    "    N = scores.shape[0]\n",
    "    test_size = N / 10\n",
    "    if set_seed:\n",
    "        np.random.seed(seed)\n",
    "    test_idx = np.random.choice(N, test_size, replace=False)\n",
    "    test_set = scores[test_idx]\n",
    "    train_set = np.delete(scores, test_idx, axis=0)\n",
    "    return train_set, test_set\n",
    "\n",
    "def query_target_split(test_set, seed=1234, set_seed=True):\n",
    "    query_set = test_set.copy()\n",
    "    target_set = test_set.copy()\n",
    "    if set_seed:\n",
    "        np.random.seed(seed)\n",
    "    for u in xrange(test_set.shape[0]):\n",
    "        rated = np.where(test_set[u] > 0)[0]\n",
    "        target = np.random.choice(rated, rated.size / 2, replace=False)\n",
    "        query_set[u,target] = 0\n",
    "    target_set[np.where(query_set > 0)] = 0\n",
    "    return query_set, target_set\n",
    "\n",
    "def evaluate_ratings(scores, target, method='nmae', min_rate=.5):\n",
    "    mask = target > 0\n",
    "    abs_dists = np.abs(scores * mask - target)\n",
    "    if method == 'mae':\n",
    "        return abs_dists.sum() / mask.sum()\n",
    "    elif method == 'nmae':\n",
    "        return abs_dists.sum() / mask.sum() / (5. - min_rate)\n",
    "    elif method == 'rmse':\n",
    "        return np.sqrt((abs_dists**2).sum() / mask.sum())\n",
    "    else:\n",
    "        raise Exception('Invalid argument value: method')\n",
    "        \n",
    "def compare_genres(userID, recoms):\n",
    "    genres = {}\n",
    "    for c in map(lambda x: get_info(x,'genres'), ratings.movieId.values[np.where(ratings.userId.values == userID)]):\n",
    "        for g in c[0].split('|'):\n",
    "            if g not in genres:\n",
    "                genres[g] = 0\n",
    "            genres[g] += 1\n",
    "            \n",
    "    recom_genres = {}\n",
    "    for c in movies.genres.values[recoms[:100]]:\n",
    "        for g in c.split('|'):\n",
    "            if g not in recom_genres:\n",
    "                recom_genres[g] = 0\n",
    "            recom_genres[g] += 1\n",
    "            \n",
    "    return sorted(genres.items(), key=lambda x: x[1], reverse=True), \\\n",
    "           sorted(recom_genres.items(), key=lambda x: x[1], reverse=True)"
   ]
  },
  {
   "cell_type": "code",
   "execution_count": 20,
   "metadata": {
    "collapsed": true
   },
   "outputs": [],
   "source": [
    "def get_info(movieId, info='title'):\n",
    "    return movies[info].values[np.where(movies.movieId.values == movieId)]\n",
    "\n",
    "def get_user_ratings(userId):\n",
    "    return ratings.values[np.where(ratings.userId == userId)][:,1:]"
   ]
  },
  {
   "cell_type": "code",
   "execution_count": 21,
   "metadata": {
    "collapsed": true
   },
   "outputs": [],
   "source": [
    "def user_baselines(train, query=None, mean_score=None):\n",
    "    if query is None:\n",
    "        query = train\n",
    "    if mean_score is None:\n",
    "        mean_score = train.sum() / np.count_nonzero(train)\n",
    "    baselines = query.sum(axis=1) / (query > 0).sum(axis=1) - mean_score\n",
    "    return np.nan_to_num(baselines)\n",
    "\n",
    "def item_baselines(train, usr_baselines=None, mean_score=None):\n",
    "    if mean_score is None:\n",
    "        mean_score = train.sum() / np.count_nonzero(train)\n",
    "    if usr_baselines is None:\n",
    "        usr_baselines = user_baselines(train, mean_score=mean_score)\n",
    "    nonzeros = (train > 0).sum(axis=0)\n",
    "    usr_baselines = usr_baselines[:, np.newaxis] * (train > 0)\n",
    "    preds = (train.sum(axis=0) - usr_baselines.sum(axis=0)) / nonzeros - mean_score\n",
    "    return np.nan_to_num(preds)\n",
    "\n",
    "# ta funkcja zwraca szacowania nawet istniejących ocen\n",
    "\n",
    "def baseline_predictors(train, query=None, mean_score=None):\n",
    "    if query is None:\n",
    "        query = train\n",
    "    if mean_score is None:\n",
    "        mean_score = train.sum() / np.count_nonzero(train)\n",
    "    usr_baselines = user_baselines(train, query, mean_score)\n",
    "    itm_baselines = item_baselines(train, mean_score=mean_score)\n",
    "    return mean_score + usr_baselines[:, np.newaxis] + itm_baselines"
   ]
  },
  {
   "cell_type": "code",
   "execution_count": 22,
   "metadata": {
    "collapsed": true
   },
   "outputs": [],
   "source": [
    "def per_user_means(scores):    \n",
    "    return scores.sum(axis=1) / (scores > 0).sum(axis=1)\n",
    "\n",
    "def per_user_stds(scores):\n",
    "    means = per_user_means(scores)\n",
    "    nonzeros = (scores > 0).sum(axis=1)\n",
    "    sums = scores.sum(axis=1)\n",
    "    sq_sums = (scores**2).sum(axis=1)\n",
    "    return np.sqrt((sq_sums + nonzeros*means**2 - 2*means*sums) / nonzeros)"
   ]
  },
  {
   "cell_type": "markdown",
   "metadata": {},
   "source": [
    "# user-user CF"
   ]
  },
  {
   "cell_type": "code",
   "execution_count": 23,
   "metadata": {
    "collapsed": false
   },
   "outputs": [],
   "source": [
    "def scores_cf_uu(train, query, target_inds, n, subtract_mean=True, div_by_std=True, metric='pearson'):\n",
    "    assert not (div_by_std and not subtract_mean)\n",
    "    \n",
    "    ratings = []\n",
    "    num_ratings = []\n",
    "    \n",
    "    train_rated = train > 0\n",
    "    train_means = per_user_means(train)\n",
    "    train_stds = per_user_stds(train)\n",
    "    \n",
    "    train_centered = (train - train_means[:, np.newaxis]) * train_rated\n",
    "    \n",
    "    query_means = per_user_means(query)\n",
    "    query_stds = per_user_stds(query)\n",
    "    \n",
    "    baselines = baseline_predictors(train, query)\n",
    "    \n",
    "    for u_idx in xrange(query.shape[0]):\n",
    "\n",
    "        user_ratings = query[u_idx]\n",
    "        user_rated = user_ratings > 0\n",
    "        user_mean = query_means[u_idx]\n",
    "        user_std = query_stds[u_idx]\n",
    "        user_baseline = baselines[u_idx]\n",
    "        \n",
    "        targets = np.where(target_inds[u_idx])[0]\n",
    "        interesting_users_inds = np.unique(np.where(train_rated[:, targets])[0])\n",
    "        train_cut = train_centered[interesting_users_inds]\n",
    "        train_cut_rated = train_rated[interesting_users_inds]\n",
    "        \n",
    "        targets_ratings = train[interesting_users_inds][:, targets]\n",
    "        \n",
    "        user_centered = (user_ratings - user_mean) * user_rated\n",
    "\n",
    "        if metric == 'cosine':\n",
    "            dists = cdist(user_centered[np.newaxis], train_cut, metric='cosine')\n",
    "        elif metric == 'pearson':\n",
    "            numerator = user_centered.dot(train_cut.T)\n",
    "            denom1 = (user_centered**2).dot(train_cut_rated.T)\n",
    "            denom2 = user_rated.dot((train_cut**2).T)\n",
    "            dists = (numerator / np.sqrt(denom1 * denom2))[np.newaxis]\n",
    "\n",
    "        dists_zero_idx = np.where((dists == 0).T * train_cut_rated[:, targets])\n",
    "\n",
    "        per_item_dists = dists.T * train_cut_rated[:, targets]\n",
    "        per_item_dists[per_item_dists == 0] = np.nan\n",
    "        per_item_dists[dists_zero_idx] = 0\n",
    "        \n",
    "        if per_item_dists.shape[0] > n:\n",
    "            order = per_item_dists.argpartition(axis=0, kth=n-1)[:n]\n",
    "        else:\n",
    "            order = np.indices((per_item_dists.shape[0], targets.size))[0]\n",
    "        \n",
    "        weights = per_item_dists[order, np.arange(targets.size)]\n",
    "\n",
    "        ratings_gathered = (~np.isnan(weights)).sum(axis=0)\n",
    "\n",
    "        weights = np.nan_to_num(weights)\n",
    "        \n",
    "        scores = targets_ratings[order, np.arange(targets.size)]\n",
    "        if subtract_mean:\n",
    "            multiplier = train_stds[interesting_users_inds][order] if div_by_std else 1\n",
    "            scores = (scores - train_means[interesting_users_inds][order]) / multiplier\n",
    "\n",
    "        scores = (scores * weights).sum(axis=0) / (np.abs(weights)).sum(axis=0)\n",
    "        \n",
    "        estimated_ratings = np.zeros(query.shape[1])\n",
    "        estimated_ratings[targets] = scores\n",
    "        \n",
    "        if subtract_mean:\n",
    "            multiplier = user_std if div_by_std else 1.        \n",
    "            estimated_ratings = user_mean + multiplier * estimated_ratings\n",
    "            \n",
    "        estimated_ratings[user_rated] = user_ratings[user_rated]\n",
    "\n",
    "        # dla ocen nan dajemy baseline predictor\n",
    "\n",
    "        estimated_ratings[np.isnan(estimated_ratings)] = user_baseline[np.isnan(estimated_ratings)]\n",
    "        \n",
    "        ratings.append(estimated_ratings[np.newaxis])\n",
    "        \n",
    "        user_num_ratings = np.zeros(query.shape[1])\n",
    "        user_num_ratings[targets] = ratings_gathered\n",
    "        num_ratings.append(user_num_ratings[np.newaxis])\n",
    "        \n",
    "    ratings = np.vstack(ratings)\n",
    "    num_ratings = np.vstack(num_ratings)\n",
    "        \n",
    "    return ratings, num_ratings"
   ]
  },
  {
   "cell_type": "code",
   "execution_count": 24,
   "metadata": {
    "collapsed": false
   },
   "outputs": [],
   "source": [
    "def recommend_cf_uu(userId, n, scores, min_n=0, subtract_mean=True, div_by_std=True, metric='pearson'):\n",
    "    \n",
    "    estimated_ratings, ratings_gathered = scores_cf_uu(scores, scores[userId-1][np.newaxis], \n",
    "                                                       [np.ones(scores.shape[1])], n, subtract_mean, \n",
    "                                                       div_by_std, metric)\n",
    "    estimated_ratings, ratings_gathered = estimated_ratings[0], ratings_gathered[0]\n",
    "    estimated_ratings[scores[userId-1] > 0] = np.nan\n",
    "    estimated_ratings[ratings_gathered < min_n] = np.nan\n",
    "    \n",
    "    movie_order = (-estimated_ratings).argsort()\n",
    "    \n",
    "    return movie_order + 1, estimated_ratings[movie_order], ratings_gathered[movie_order]"
   ]
  },
  {
   "cell_type": "markdown",
   "metadata": {},
   "source": [
    "# item-item CF"
   ]
  },
  {
   "cell_type": "code",
   "execution_count": 25,
   "metadata": {
    "collapsed": true
   },
   "outputs": [],
   "source": [
    "def calculate_similarities_cf_ii(scores, nan_to_1=True):\n",
    "    dists = cdist(scores.T, scores.T, metric='cosine')\n",
    "    if nan_to_1:\n",
    "        dists[np.isnan(dists)] = 1\n",
    "    return dists"
   ]
  },
  {
   "cell_type": "code",
   "execution_count": 26,
   "metadata": {
    "collapsed": true
   },
   "outputs": [],
   "source": [
    "def scores_cf_ii(train, query, target_inds, n, dists=None):\n",
    "    if dists is None:\n",
    "        raise NotImplementedError('distances have to be precomputed')\n",
    "    \n",
    "    ratings = []\n",
    "    \n",
    "    baselines = baseline_predictors(train, query)\n",
    "    \n",
    "    for u_idx in xrange(query.shape[0]):\n",
    "\n",
    "        user_ratings = query[u_idx]\n",
    "        user_rated = user_ratings > 0\n",
    "        user_baseline = baselines[u_idx]\n",
    "        \n",
    "        targets = np.where(target_inds[u_idx])[0]        \n",
    "\n",
    "        user_dists = dists[targets][:, user_rated]\n",
    "        if user_dists.shape[1] > n:\n",
    "            order = user_dists.argpartition(axis=1, kth=n-1)[:, :n]\n",
    "        else:\n",
    "            order = np.indices((targets.size, user_dists.shape[1]))[1]\n",
    "        weights = user_dists[np.arange(targets.size)[:, np.newaxis], order]\n",
    "\n",
    "        scores = user_ratings[user_rated][order] - user_baseline[targets, np.newaxis]\n",
    "        scores = (scores * weights).sum(axis=1) / (np.abs(weights)).sum(axis=1) + user_baseline[targets]\n",
    "            \n",
    "        estimated_ratings = np.zeros(query.shape[1])\n",
    "        estimated_ratings[targets] = scores\n",
    "        estimated_ratings[user_rated] = user_ratings[user_rated]\n",
    "        \n",
    "        ratings.append(estimated_ratings[np.newaxis])\n",
    "\n",
    "    return np.vstack(ratings)"
   ]
  },
  {
   "cell_type": "code",
   "execution_count": 27,
   "metadata": {
    "collapsed": true
   },
   "outputs": [],
   "source": [
    "def recommend_cf_ii(userId, n, scores, dists=None):\n",
    "    if dists is None:\n",
    "        raise NotImplementedError('distances have to be precomputed')\n",
    "\n",
    "    estimated_ratings = scores_cf_ii(scores, scores[userId-1][np.newaxis], [np.ones(scores.shape[1])], \n",
    "                                     n, dists=dists)[0]\n",
    "    estimated_ratings[scores[userId-1] > 0] = np.nan\n",
    "    \n",
    "    movie_order = (-estimated_ratings).argsort()\n",
    "    \n",
    "    return movie_order + 1, estimated_ratings[movie_order]"
   ]
  },
  {
   "cell_type": "markdown",
   "metadata": {},
   "source": [
    "# Slope One\n",
    "\n",
    "# basic"
   ]
  },
  {
   "cell_type": "code",
   "execution_count": 28,
   "metadata": {
    "collapsed": true
   },
   "outputs": [],
   "source": [
    "def calculate_similarities_SO(scores, nan_to_0=True):\n",
    "    rated = scores > 0\n",
    "    dists = scores.T.dot(rated)\n",
    "    dists = dists - dists.T\n",
    "    cards = rated.T.dot(rated.astype(np.float))\n",
    "    return np.nan_to_num(dists / cards), cards"
   ]
  },
  {
   "cell_type": "code",
   "execution_count": 29,
   "metadata": {
    "collapsed": true
   },
   "outputs": [],
   "source": [
    "def scores_SO_basic(train, query, target_inds, dists=None):\n",
    "    if dists is None:\n",
    "        raise NotImplementedError('distances have to be precomputed')\n",
    "        \n",
    "    ratings = []    \n",
    "        \n",
    "    for u_idx in xrange(query.shape[0]):\n",
    "        user_ratings = query[u_idx]\n",
    "        user_rated = user_ratings > 0\n",
    "        \n",
    "        targets = np.where(target_inds[u_idx])[0]        \n",
    "\n",
    "        user_mean = user_ratings.sum() / user_rated.sum()\n",
    "        scores = dists[targets][:, user_rated].mean(axis=1) + user_mean\n",
    "        \n",
    "        estimated_ratings = np.zeros(query.shape[1])\n",
    "        estimated_ratings[targets] = scores\n",
    "        estimated_ratings[user_rated] = user_ratings[user_rated]\n",
    "        \n",
    "        ratings.append(estimated_ratings[np.newaxis])\n",
    "        \n",
    "    return np.vstack(ratings)"
   ]
  },
  {
   "cell_type": "code",
   "execution_count": 30,
   "metadata": {
    "collapsed": true
   },
   "outputs": [],
   "source": [
    "def recommend_SO_basic(userId, scores, dists=None):\n",
    "    if dists is None:\n",
    "        raise NotImplementedError('distances have to be precomputed')\n",
    "\n",
    "    estimated_ratings = scores_SO_basic(scores, scores[userId-1][np.newaxis], [np.ones(scores.shape[1])], dists)[0]\n",
    "    estimated_ratings[scores[userId-1] > 0] = np.nan\n",
    "    \n",
    "    movie_order = (-estimated_ratings).argsort()\n",
    "    \n",
    "    return movie_order + 1, estimated_ratings[movie_order]"
   ]
  },
  {
   "cell_type": "markdown",
   "metadata": {},
   "source": [
    "# weighted"
   ]
  },
  {
   "cell_type": "code",
   "execution_count": 31,
   "metadata": {
    "collapsed": true
   },
   "outputs": [],
   "source": [
    "def scores_SO_weighted(train, query, target_inds, dists_cards=None):\n",
    "    if dists_cards is None:\n",
    "        raise NotImplementedError('distances and cardinalities have to be precomputed')\n",
    "        \n",
    "    dists, cards = dists_cards\n",
    "        \n",
    "    ratings = []    \n",
    "        \n",
    "    for u_idx in xrange(query.shape[0]):\n",
    "        user_ratings = query[u_idx]\n",
    "        user_rated = user_ratings > 0\n",
    "        \n",
    "        targets = np.where(target_inds[u_idx])[0]        \n",
    "        \n",
    "        weights = cards[targets][:, user_rated]\n",
    "        scores = dists[targets][:, user_rated] + user_ratings[user_rated]\n",
    "        scores = (scores * weights).sum(axis=1) / weights.sum(axis=1)\n",
    "        \n",
    "        estimated_ratings = np.zeros(query.shape[1])\n",
    "        estimated_ratings[targets] = scores\n",
    "        estimated_ratings[user_rated] = user_ratings[user_rated]\n",
    "        \n",
    "        ratings.append(estimated_ratings[np.newaxis])\n",
    "        \n",
    "    return np.vstack(ratings)"
   ]
  },
  {
   "cell_type": "markdown",
   "metadata": {},
   "source": [
    "# bi-polar"
   ]
  },
  {
   "cell_type": "code",
   "execution_count": 32,
   "metadata": {
    "collapsed": false
   },
   "outputs": [],
   "source": [
    "def calculate_similarities_SO_bipolar(scores, nan_to_0=True):\n",
    "    means = per_user_means(scores)[:, np.newaxis]\n",
    "    liked = scores >= means\n",
    "    disliked = (scores < means) * (scores > 0)\n",
    "    \n",
    "    def calculate_dists(mask):\n",
    "        dists = (scores * mask).T.dot(mask)\n",
    "        dists = dists - dists.T\n",
    "        cards = mask.T.dot(mask.astype(np.float))\n",
    "        return np.nan_to_num(dists / cards), cards\n",
    "    \n",
    "    dists_like = calculate_dists(liked)\n",
    "    dists_dislike = calculate_dists(disliked)\n",
    "    \n",
    "    return dists_like, dists_dislike"
   ]
  },
  {
   "cell_type": "code",
   "execution_count": 33,
   "metadata": {
    "collapsed": true
   },
   "outputs": [],
   "source": [
    "def scores_SO_bipolar(train, query, target_inds, dists_cards_liked=None, dists_cards_disliked=None):\n",
    "    if dists_cards_liked is None or dists_cards_disliked is None:\n",
    "        raise NotImplementedError('distances and cardinalities have to be precomputed')\n",
    "        \n",
    "    dists_l, cards_l = dists_cards_liked\n",
    "    dists_d, cards_d = dists_cards_disliked\n",
    "        \n",
    "    ratings = []    \n",
    "        \n",
    "    for u_idx in xrange(query.shape[0]):\n",
    "        user_ratings = query[u_idx]\n",
    "        user_rated = user_ratings > 0\n",
    "        user_mean = user_ratings.sum() / user_rated.sum()\n",
    "        \n",
    "        user_l = user_ratings >= user_mean\n",
    "        user_d = (user_ratings < user_mean) * (user_ratings > 0)\n",
    "        \n",
    "        targets = np.where(target_inds[u_idx])[0]        \n",
    "        \n",
    "        weights_l = cards_l[targets][:, user_l]\n",
    "        weights_d = cards_d[targets][:, user_d]\n",
    "        \n",
    "        scores_l = ((dists[targets][:, user_l] + user_ratings[user_l]) * weights_l).sum(axis=1)\n",
    "        scores_d = ((dists[targets][:, user_d] + user_ratings[user_d]) * weights_d).sum(axis=1)\n",
    "        \n",
    "        scores = (scores_l + scores_d) / (weights_l.sum(axis=1) + weights_d.sum(axis=1))\n",
    "        \n",
    "        estimated_ratings = np.zeros(query.shape[1])\n",
    "        estimated_ratings[targets] = scores\n",
    "        estimated_ratings[user_rated] = user_ratings[user_rated]\n",
    "        \n",
    "        ratings.append(estimated_ratings[np.newaxis])\n",
    "        \n",
    "    return np.vstack(ratings)"
   ]
  },
  {
   "cell_type": "markdown",
   "metadata": {},
   "source": [
    "# testy"
   ]
  },
  {
   "cell_type": "code",
   "execution_count": 44,
   "metadata": {
    "collapsed": false
   },
   "outputs": [],
   "source": [
    "seed = np.random.randint(1, 1000000)\n",
    "seed = 12340\n",
    "train, test = train_test_split(all_scores, seed)\n",
    "query, target = query_target_split(test, seed, True)"
   ]
  },
  {
   "cell_type": "markdown",
   "metadata": {},
   "source": [
    "# baseline evaluation"
   ]
  },
  {
   "cell_type": "code",
   "execution_count": 45,
   "metadata": {
    "collapsed": false
   },
   "outputs": [
    {
     "data": {
      "text/plain": [
       "0.68164734144577122"
      ]
     },
     "execution_count": 45,
     "metadata": {},
     "output_type": "execute_result"
    }
   ],
   "source": [
    "evaluate_ratings(baseline_predictors(train, query), target, method='mae')"
   ]
  },
  {
   "cell_type": "markdown",
   "metadata": {},
   "source": [
    "# testy uu"
   ]
  },
  {
   "cell_type": "code",
   "execution_count": 246,
   "metadata": {
    "collapsed": false
   },
   "outputs": [
    {
     "name": "stdout",
     "output_type": "stream",
     "text": [
      "1.6916987896\n"
     ]
    },
    {
     "data": {
      "text/plain": [
       "(array([ 4.93597315,  4.82404485,  4.81861098,  4.76318241,  4.76081769,\n",
       "         4.75777036,  4.75484343,  4.75229947,  4.73198646,  4.73163966]),\n",
       " array([2837, 3270, 1221,  942, 2962, 1181,  258, 1133, 2129, 1243]))"
      ]
     },
     "execution_count": 246,
     "metadata": {},
     "output_type": "execute_result"
    }
   ],
   "source": [
    "userId = 55\n",
    "\n",
    "t0 = time.time()\n",
    "recoms, scores, sample_size = recommend_cf_uu(userId, 50, all_scores, 10, metric='cosine')\n",
    "print time.time()-t0\n",
    "scores[:10], recoms[:10]"
   ]
  },
  {
   "cell_type": "code",
   "execution_count": 62,
   "metadata": {
    "collapsed": false
   },
   "outputs": [
    {
     "ename": "MemoryError",
     "evalue": "",
     "output_type": "error",
     "traceback": [
      "\u001b[1;31m---------------------------------------------------------------------------\u001b[0m",
      "\u001b[1;31mMemoryError\u001b[0m                               Traceback (most recent call last)",
      "\u001b[1;32m<ipython-input-62-ef25404fc2a6>\u001b[0m in \u001b[0;36m<module>\u001b[1;34m()\u001b[0m\n\u001b[0;32m      1\u001b[0m \u001b[0mt0\u001b[0m \u001b[1;33m=\u001b[0m \u001b[0mtime\u001b[0m\u001b[1;33m.\u001b[0m\u001b[0mtime\u001b[0m\u001b[1;33m(\u001b[0m\u001b[1;33m)\u001b[0m\u001b[1;33m\u001b[0m\u001b[0m\n\u001b[1;32m----> 2\u001b[1;33m \u001b[0mS\u001b[0m \u001b[1;33m=\u001b[0m \u001b[0mscores_cf_uu\u001b[0m\u001b[1;33m(\u001b[0m\u001b[0mtrain\u001b[0m\u001b[1;33m,\u001b[0m \u001b[0mquery\u001b[0m\u001b[1;33m,\u001b[0m \u001b[0mtarget\u001b[0m \u001b[1;33m>\u001b[0m \u001b[1;36m0\u001b[0m\u001b[1;33m,\u001b[0m \u001b[1;36m50\u001b[0m\u001b[1;33m,\u001b[0m \u001b[0mmetric\u001b[0m\u001b[1;33m=\u001b[0m\u001b[1;34m'cosine'\u001b[0m\u001b[1;33m)\u001b[0m\u001b[1;33m[\u001b[0m\u001b[1;36m0\u001b[0m\u001b[1;33m]\u001b[0m\u001b[1;33m\u001b[0m\u001b[0m\n\u001b[0m\u001b[0;32m      3\u001b[0m \u001b[0mtime\u001b[0m\u001b[1;33m.\u001b[0m\u001b[0mtime\u001b[0m\u001b[1;33m(\u001b[0m\u001b[1;33m)\u001b[0m \u001b[1;33m-\u001b[0m \u001b[0mt0\u001b[0m\u001b[1;33m\u001b[0m\u001b[0m\n",
      "\u001b[1;32m<ipython-input-23-e915a5770498>\u001b[0m in \u001b[0;36mscores_cf_uu\u001b[1;34m(train, query, target_inds, n, subtract_mean, div_by_std, metric)\u001b[0m\n\u001b[0;32m     29\u001b[0m         \u001b[0mtrain_cut_rated\u001b[0m \u001b[1;33m=\u001b[0m \u001b[0mtrain_rated\u001b[0m\u001b[1;33m[\u001b[0m\u001b[0minteresting_users_inds\u001b[0m\u001b[1;33m]\u001b[0m\u001b[1;33m\u001b[0m\u001b[0m\n\u001b[0;32m     30\u001b[0m \u001b[1;33m\u001b[0m\u001b[0m\n\u001b[1;32m---> 31\u001b[1;33m         \u001b[0mtargets_ratings\u001b[0m \u001b[1;33m=\u001b[0m \u001b[0mtrain\u001b[0m\u001b[1;33m[\u001b[0m\u001b[0minteresting_users_inds\u001b[0m\u001b[1;33m]\u001b[0m\u001b[1;33m[\u001b[0m\u001b[1;33m:\u001b[0m\u001b[1;33m,\u001b[0m \u001b[0mtargets\u001b[0m\u001b[1;33m]\u001b[0m\u001b[1;33m\u001b[0m\u001b[0m\n\u001b[0m\u001b[0;32m     32\u001b[0m \u001b[1;33m\u001b[0m\u001b[0m\n\u001b[0;32m     33\u001b[0m         \u001b[0muser_centered\u001b[0m \u001b[1;33m=\u001b[0m \u001b[1;33m(\u001b[0m\u001b[0muser_ratings\u001b[0m \u001b[1;33m-\u001b[0m \u001b[0muser_mean\u001b[0m\u001b[1;33m)\u001b[0m \u001b[1;33m*\u001b[0m \u001b[0muser_rated\u001b[0m\u001b[1;33m\u001b[0m\u001b[0m\n",
      "\u001b[1;31mMemoryError\u001b[0m: "
     ]
    }
   ],
   "source": [
    "t0 = time.time()\n",
    "S = scores_cf_uu(train, query, target > 0, 50, metric='cosine')[0]\n",
    "time.time() - t0"
   ]
  },
  {
   "cell_type": "code",
   "execution_count": null,
   "metadata": {
    "collapsed": false
   },
   "outputs": [],
   "source": [
    "evaluate_ratings(S, target, method='mae')"
   ]
  },
  {
   "cell_type": "markdown",
   "metadata": {},
   "source": [
    "# testy ii"
   ]
  },
  {
   "cell_type": "code",
   "execution_count": 249,
   "metadata": {
    "collapsed": true
   },
   "outputs": [],
   "source": [
    "dists = calculate_similarities_cf_ii(all_scores)"
   ]
  },
  {
   "cell_type": "code",
   "execution_count": 250,
   "metadata": {
    "collapsed": false
   },
   "outputs": [
    {
     "name": "stdout",
     "output_type": "stream",
     "text": [
      "0.279159069061\n"
     ]
    },
    {
     "data": {
      "text/plain": [
       "(array([ 4.14650447,  4.14532208,  4.14211497,  4.14203507,  4.14176689,\n",
       "         4.14122667,  4.14080789,  4.14073863,  4.14069204,  4.14055616]),\n",
       " array([2951,  161, 1132, 3204, 3673, 1080,  532, 1210, 1175, 1173]))"
      ]
     },
     "execution_count": 250,
     "metadata": {},
     "output_type": "execute_result"
    }
   ],
   "source": [
    "userId = 55\n",
    "\n",
    "t0 = time.time()\n",
    "recoms, scores = recommend_cf_ii(userId, 50, all_scores, dists=dists)\n",
    "print time.time()-t0\n",
    "scores[:10], recoms[:10]"
   ]
  },
  {
   "cell_type": "code",
   "execution_count": 46,
   "metadata": {
    "collapsed": true
   },
   "outputs": [],
   "source": [
    "dists = calculate_similarities_cf_ii(train)"
   ]
  },
  {
   "cell_type": "code",
   "execution_count": 47,
   "metadata": {
    "collapsed": false
   },
   "outputs": [
    {
     "data": {
      "text/plain": [
       "17.264770030975342"
      ]
     },
     "execution_count": 47,
     "metadata": {},
     "output_type": "execute_result"
    }
   ],
   "source": [
    "t0 = time.time()\n",
    "S_ii = scores_cf_ii(train, query, target > 0, 40, dists)\n",
    "time.time() - t0"
   ]
  },
  {
   "cell_type": "code",
   "execution_count": 48,
   "metadata": {
    "collapsed": false
   },
   "outputs": [
    {
     "data": {
      "text/plain": [
       "0.70963052876509469"
      ]
     },
     "execution_count": 48,
     "metadata": {},
     "output_type": "execute_result"
    }
   ],
   "source": [
    "evaluate_ratings(S_ii, target, method='mae')"
   ]
  },
  {
   "cell_type": "markdown",
   "metadata": {},
   "source": [
    "# testy SO basic"
   ]
  },
  {
   "cell_type": "code",
   "execution_count": 49,
   "metadata": {
    "collapsed": true
   },
   "outputs": [],
   "source": [
    "dists = calculate_similarities_SO(all_scores)[0]"
   ]
  },
  {
   "cell_type": "code",
   "execution_count": 51,
   "metadata": {
    "collapsed": false
   },
   "outputs": [
    {
     "name": "stdout",
     "output_type": "stream",
     "text": [
      "0.191313028336\n"
     ]
    },
    {
     "data": {
      "text/plain": [
       "(array([ 4.67724868,  4.5625    ,  4.22222222,  4.21385666,  4.1912037 ,\n",
       "         4.17361111,  4.16187209,  4.15883114,  4.14116622,  4.13657407]),\n",
       " array([ 9032,  9084,  9409,  9391, 10676,  8406,   316,  6558,    50,  9009]))"
      ]
     },
     "execution_count": 51,
     "metadata": {},
     "output_type": "execute_result"
    }
   ],
   "source": [
    "userId = 55\n",
    "\n",
    "t0 = time.time()\n",
    "recoms, scores = recommend_SO_basic(userId, all_scores, dists=dists)\n",
    "print time.time()-t0\n",
    "scores[:10], recoms[:10]"
   ]
  },
  {
   "cell_type": "code",
   "execution_count": 52,
   "metadata": {
    "collapsed": false
   },
   "outputs": [],
   "source": [
    "dists = calculate_similarities_SO(train)[0]"
   ]
  },
  {
   "cell_type": "code",
   "execution_count": 53,
   "metadata": {
    "collapsed": false
   },
   "outputs": [
    {
     "data": {
      "text/plain": [
       "8.177078008651733"
      ]
     },
     "execution_count": 53,
     "metadata": {},
     "output_type": "execute_result"
    }
   ],
   "source": [
    "t0 = time.time()\n",
    "S = scores_SO_basic(train, query, target > 0, dists)\n",
    "time.time() - t0"
   ]
  },
  {
   "cell_type": "code",
   "execution_count": 54,
   "metadata": {
    "collapsed": false
   },
   "outputs": [
    {
     "data": {
      "text/plain": [
       "0.66299560571636929"
      ]
     },
     "execution_count": 54,
     "metadata": {},
     "output_type": "execute_result"
    }
   ],
   "source": [
    "evaluate_ratings(np.nan_to_num(S), target, method='mae')"
   ]
  },
  {
   "cell_type": "markdown",
   "metadata": {
    "collapsed": true
   },
   "source": [
    "# testy SO weighted"
   ]
  },
  {
   "cell_type": "code",
   "execution_count": 55,
   "metadata": {
    "collapsed": false
   },
   "outputs": [],
   "source": [
    "dists_cards = calculate_similarities_SO(train)"
   ]
  },
  {
   "cell_type": "code",
   "execution_count": 57,
   "metadata": {
    "collapsed": false
   },
   "outputs": [
    {
     "data": {
      "text/plain": [
       "15.70959186553955"
      ]
     },
     "execution_count": 57,
     "metadata": {},
     "output_type": "execute_result"
    }
   ],
   "source": [
    "t0 = time.time()\n",
    "S = scores_SO_weighted(train, query, target > 0, dists_cards)\n",
    "time.time() - t0"
   ]
  },
  {
   "cell_type": "code",
   "execution_count": 58,
   "metadata": {
    "collapsed": false
   },
   "outputs": [
    {
     "data": {
      "text/plain": [
       "0.6612443237782728"
      ]
     },
     "execution_count": 58,
     "metadata": {},
     "output_type": "execute_result"
    }
   ],
   "source": [
    "evaluate_ratings(np.nan_to_num(S), target, method='mae')"
   ]
  },
  {
   "cell_type": "markdown",
   "metadata": {},
   "source": [
    "# testy SO bi-polar"
   ]
  },
  {
   "cell_type": "code",
   "execution_count": 59,
   "metadata": {
    "collapsed": true
   },
   "outputs": [],
   "source": [
    "dists_cards_l, dists_cards_d = calculate_similarities_SO_bipolar(train)"
   ]
  },
  {
   "cell_type": "code",
   "execution_count": 60,
   "metadata": {
    "collapsed": false
   },
   "outputs": [
    {
     "data": {
      "text/plain": [
       "28.759602069854736"
      ]
     },
     "execution_count": 60,
     "metadata": {},
     "output_type": "execute_result"
    }
   ],
   "source": [
    "t0 = time.time()\n",
    "S = scores_SO_bipolar(train, query, target > 0, dists_cards_l, dists_cards_d)\n",
    "time.time() - t0"
   ]
  },
  {
   "cell_type": "code",
   "execution_count": 61,
   "metadata": {
    "collapsed": false
   },
   "outputs": [
    {
     "data": {
      "text/plain": [
       "0.66863814018315582"
      ]
     },
     "execution_count": 61,
     "metadata": {},
     "output_type": "execute_result"
    }
   ],
   "source": [
    "evaluate_ratings(np.nan_to_num(S), target, method='mae')"
   ]
  }
 ],
 "metadata": {
  "anaconda-cloud": {},
  "kernelspec": {
   "display_name": "Python 2",
   "language": "python",
   "name": "python2"
  },
  "language_info": {
   "codemirror_mode": {
    "name": "ipython",
    "version": 2
   },
   "file_extension": ".py",
   "mimetype": "text/x-python",
   "name": "python",
   "nbconvert_exporter": "python",
   "pygments_lexer": "ipython2",
   "version": "2.7.11"
  }
 },
 "nbformat": 4,
 "nbformat_minor": 1
}
