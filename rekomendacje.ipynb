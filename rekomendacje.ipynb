{
 "cells": [
  {
   "cell_type": "code",
   "execution_count": 1,
   "metadata": {
    "collapsed": false
   },
   "outputs": [],
   "source": [
    "import numpy as np\n",
    "import time\n",
    "from testing import cross_valid, analyze_cross_valid_res, train_test_split, query_target_split, evaluate_ratings\n",
    "from utils import read_10M, read_1M, read_small\n",
    "from collaborative_filtering import recommend_cf_ii, recommend_cf_uu, calculate_similarities_cf_ii, \\\n",
    "                                    scores_cf_uu, scores_cf_ii\n",
    "from slope_one import recommend_SO, calculate_similarities_SO, calculate_similarities_SO_bipolar, \\\n",
    "                      scores_SO_basic, scores_SO_weighted, scores_SO_bipolar\n",
    "from baselines import baseline_predictors"
   ]
  },
  {
   "cell_type": "markdown",
   "metadata": {},
   "source": [
    "Funkcje scores_... szacują oceny filmów o indeksach target_inds \n",
    "dla użytkowników w query w oparciu o zbiór uczący train.\n",
    "\n",
    "Funkcje recommend_... służą do polecania filmów, przykład użycia na dole tego notebooka.\n",
    "\n",
    "Funkcje calculate\\_similarities_... obliczają macierze podobieństwa między filmami dla różnych metod."
   ]
  },
  {
   "cell_type": "code",
   "execution_count": 2,
   "metadata": {
    "collapsed": false
   },
   "outputs": [],
   "source": [
    "movies, ratings, min_rate = read_10M()"
   ]
  },
  {
   "cell_type": "code",
   "execution_count": 3,
   "metadata": {
    "collapsed": false
   },
   "outputs": [],
   "source": [
    "movie_index = {k:v for (v,k) in movies.movieId.to_dict().items()}"
   ]
  },
  {
   "cell_type": "code",
   "execution_count": 4,
   "metadata": {
    "collapsed": false
   },
   "outputs": [],
   "source": [
    "all_scores = np.zeros((max(ratings.userId), len(movies)))\n",
    "for (user, movie, rating, _) in ratings.values:\n",
    "    all_scores[int(user)-1, movie_index[int(movie)]] = rating\n",
    "all_scores = all_scores[np.where(all_scores.sum(axis=1) > 0)[0]]"
   ]
  },
  {
   "cell_type": "markdown",
   "metadata": {},
   "source": [
    "# cross validation"
   ]
  },
  {
   "cell_type": "code",
   "execution_count": null,
   "metadata": {
    "collapsed": true
   },
   "outputs": [],
   "source": [
    "# to są główne testy, wyniki w raporcie"
   ]
  },
  {
   "cell_type": "code",
   "execution_count": null,
   "metadata": {
    "collapsed": true
   },
   "outputs": [],
   "source": [
    "t0=time.time()\n",
    "mean_scores, std_scores = analyze_cross_valid_res(cross_valid(all_scores, method='uucf', min_rate=min_rate, \n",
    "                                                              cf_n=10, uucf_metric='pearson'))\n",
    "print mean_scores\n",
    "print std_scores\n",
    "print time.time()-t0"
   ]
  },
  {
   "cell_type": "code",
   "execution_count": null,
   "metadata": {
    "collapsed": true
   },
   "outputs": [],
   "source": [
    "t0=time.time()\n",
    "mean_scores, std_scores = analyze_cross_valid_res(cross_valid(all_scores, method='uucf', min_rate=min_rate, \n",
    "                                                              cf_n=20, uucf_metric='pearson'))\n",
    "print mean_scores\n",
    "print std_scores\n",
    "print time.time()-t0"
   ]
  },
  {
   "cell_type": "code",
   "execution_count": null,
   "metadata": {
    "collapsed": true
   },
   "outputs": [],
   "source": [
    "t0=time.time()\n",
    "mean_scores, std_scores = analyze_cross_valid_res(cross_valid(all_scores, method='uucf', min_rate=min_rate, \n",
    "                                                              cf_n=30, uucf_metric='pearson'))\n",
    "print mean_scores\n",
    "print std_scores\n",
    "print time.time()-t0"
   ]
  },
  {
   "cell_type": "markdown",
   "metadata": {},
   "source": [
    "# pozostałe testy"
   ]
  },
  {
   "cell_type": "code",
   "execution_count": null,
   "metadata": {
    "collapsed": true
   },
   "outputs": [],
   "source": [
    "# podział na zbiór uczący i testowy"
   ]
  },
  {
   "cell_type": "code",
   "execution_count": 5,
   "metadata": {
    "collapsed": false
   },
   "outputs": [],
   "source": [
    "seed = 1234\n",
    "train, test = train_test_split(all_scores, seed)\n",
    "query, target = query_target_split(test, seed, True)"
   ]
  },
  {
   "cell_type": "markdown",
   "metadata": {},
   "source": [
    "## baseline evaluation"
   ]
  },
  {
   "cell_type": "code",
   "execution_count": null,
   "metadata": {
    "collapsed": true
   },
   "outputs": [],
   "source": [
    "# ewaluacja na zbiorze testowym"
   ]
  },
  {
   "cell_type": "code",
   "execution_count": 6,
   "metadata": {
    "collapsed": false
   },
   "outputs": [
    {
     "data": {
      "text/plain": [
       "0.68612817295587047"
      ]
     },
     "execution_count": 6,
     "metadata": {},
     "output_type": "execute_result"
    }
   ],
   "source": [
    "evaluate_ratings(baseline_predictors(train, query), target, method='mae')"
   ]
  },
  {
   "cell_type": "markdown",
   "metadata": {},
   "source": [
    "## testy uu"
   ]
  },
  {
   "cell_type": "code",
   "execution_count": null,
   "metadata": {
    "collapsed": true
   },
   "outputs": [],
   "source": [
    "# rekomendacje"
   ]
  },
  {
   "cell_type": "code",
   "execution_count": 8,
   "metadata": {
    "collapsed": false
   },
   "outputs": [
    {
     "name": "stdout",
     "output_type": "stream",
     "text": [
      "43.2127840519\n"
     ]
    },
    {
     "data": {
      "text/plain": [
       "(array([ 4.68933149,  4.65831542,  4.63180198,  4.62600546,  4.59492645,\n",
       "         4.59287746,  4.58403634,  4.57123128,  4.56383638,  4.55288093]),\n",
       " array([8507, 9468, 5916, 6557,  906, 3650, 9369, 8576, 9656, 3049]))"
      ]
     },
     "execution_count": 8,
     "metadata": {},
     "output_type": "execute_result"
    }
   ],
   "source": [
    "userId = 55\n",
    "\n",
    "t0 = time.time()\n",
    "recoms, scores, sample_size = recommend_cf_uu(userId, 30, all_scores, 10, metric='pearson')\n",
    "print time.time()-t0\n",
    "scores[:10], recoms[:10]"
   ]
  },
  {
   "cell_type": "code",
   "execution_count": null,
   "metadata": {
    "collapsed": true
   },
   "outputs": [],
   "source": [
    "# ewaluacja na zbiorze testowym"
   ]
  },
  {
   "cell_type": "code",
   "execution_count": 8,
   "metadata": {
    "collapsed": false
   },
   "outputs": [
    {
     "data": {
      "text/plain": [
       "0.3459289073944092"
      ]
     },
     "execution_count": 8,
     "metadata": {},
     "output_type": "execute_result"
    }
   ],
   "source": [
    "t0 = time.time()\n",
    "S = scores_cf_uu(train, query, target > 0, 50, metric='pearson', min_rate=min_rate)[0]\n",
    "time.time() - t0"
   ]
  },
  {
   "cell_type": "code",
   "execution_count": 9,
   "metadata": {
    "collapsed": false
   },
   "outputs": [
    {
     "data": {
      "text/plain": [
       "0.66482114440825846"
      ]
     },
     "execution_count": 9,
     "metadata": {},
     "output_type": "execute_result"
    }
   ],
   "source": [
    "evaluate_ratings(S, target, method='mae')"
   ]
  },
  {
   "cell_type": "markdown",
   "metadata": {},
   "source": [
    "## testy ii"
   ]
  },
  {
   "cell_type": "code",
   "execution_count": null,
   "metadata": {
    "collapsed": true
   },
   "outputs": [],
   "source": [
    "# rekomendacje"
   ]
  },
  {
   "cell_type": "code",
   "execution_count": 8,
   "metadata": {
    "collapsed": false
   },
   "outputs": [
    {
     "name": "stdout",
     "output_type": "stream",
     "text": [
      "161.288729906\n"
     ]
    }
   ],
   "source": [
    "t0 = time.time()\n",
    "dists = calculate_similarities_cf_ii(all_scores, subtract_baselines=True)\n",
    "print time.time()-t0"
   ]
  },
  {
   "cell_type": "code",
   "execution_count": 9,
   "metadata": {
    "collapsed": false
   },
   "outputs": [
    {
     "name": "stdout",
     "output_type": "stream",
     "text": [
      "8.01727485657\n"
     ]
    },
    {
     "data": {
      "text/plain": [
       "(array([ 5.86124955,  5.6582584 ,  5.51159073,  5.12848955,  5.01159073,\n",
       "         4.8212078 ,  4.7521022 ,  4.69712561,  4.68013245,  4.67951706]),\n",
       " array([ 4361, 10616,  9408, 10626, 10337, 10545,  1390, 10303,  9767,  1205]))"
      ]
     },
     "execution_count": 9,
     "metadata": {},
     "output_type": "execute_result"
    }
   ],
   "source": [
    "userId = 55\n",
    "\n",
    "t0 = time.time()\n",
    "recoms, scores = recommend_cf_ii(userId, 30, all_scores, dists=dists)\n",
    "print time.time()-t0\n",
    "scores[:10], recoms[:10]"
   ]
  },
  {
   "cell_type": "code",
   "execution_count": null,
   "metadata": {
    "collapsed": true
   },
   "outputs": [],
   "source": [
    "# ewaluacja na zbiorze testowym"
   ]
  },
  {
   "cell_type": "code",
   "execution_count": 19,
   "metadata": {
    "collapsed": true
   },
   "outputs": [],
   "source": [
    "dists = calculate_similarities_cf_ii(train)"
   ]
  },
  {
   "cell_type": "code",
   "execution_count": 20,
   "metadata": {
    "collapsed": false
   },
   "outputs": [
    {
     "data": {
      "text/plain": [
       "0.16721701622009277"
      ]
     },
     "execution_count": 20,
     "metadata": {},
     "output_type": "execute_result"
    }
   ],
   "source": [
    "t0 = time.time()\n",
    "S_ii = scores_cf_ii(train, query, target > 0, 20, dists, min_rate=min_rate)\n",
    "time.time() - t0"
   ]
  },
  {
   "cell_type": "code",
   "execution_count": 21,
   "metadata": {
    "collapsed": false
   },
   "outputs": [
    {
     "data": {
      "text/plain": [
       "0.66497166549689679"
      ]
     },
     "execution_count": 21,
     "metadata": {},
     "output_type": "execute_result"
    }
   ],
   "source": [
    "evaluate_ratings(S_ii, target, method='mae')"
   ]
  },
  {
   "cell_type": "markdown",
   "metadata": {},
   "source": [
    "## testy SO basic"
   ]
  },
  {
   "cell_type": "code",
   "execution_count": null,
   "metadata": {
    "collapsed": true
   },
   "outputs": [],
   "source": [
    "# rekomendacje"
   ]
  },
  {
   "cell_type": "code",
   "execution_count": 5,
   "metadata": {
    "collapsed": false
   },
   "outputs": [
    {
     "name": "stdout",
     "output_type": "stream",
     "text": [
      "259.405522108\n"
     ]
    }
   ],
   "source": [
    "t0 = time.time()\n",
    "dists_cards = calculate_similarities_SO(all_scores)\n",
    "print time.time()-t0"
   ]
  },
  {
   "cell_type": "code",
   "execution_count": 6,
   "metadata": {
    "collapsed": false
   },
   "outputs": [
    {
     "name": "stdout",
     "output_type": "stream",
     "text": [
      "7.79314899445\n"
     ]
    },
    {
     "data": {
      "text/plain": [
       "(array([ 4.67724868,  4.5625    ,  4.22222222,  4.21385666,  4.1912037 ,\n",
       "         4.17361111,  4.16187209,  4.15883114,  4.14116622,  4.13657407]),\n",
       " array([ 9031,  9083,  9408,  9390, 10675,  8405,   315,  6557,    49,  9008]))"
      ]
     },
     "execution_count": 6,
     "metadata": {},
     "output_type": "execute_result"
    }
   ],
   "source": [
    "userId = 55\n",
    "\n",
    "t0 = time.time()\n",
    "recoms, scores = recommend_SO(userId, all_scores, dists_cards=dists_cards, mode='basic')\n",
    "print time.time()-t0\n",
    "scores[:10], recoms[:10]"
   ]
  },
  {
   "cell_type": "code",
   "execution_count": null,
   "metadata": {
    "collapsed": true
   },
   "outputs": [],
   "source": [
    "# ewaluacja na zbiorze testowym"
   ]
  },
  {
   "cell_type": "code",
   "execution_count": 22,
   "metadata": {
    "collapsed": false
   },
   "outputs": [],
   "source": [
    "dists_cards = calculate_similarities_SO(train)"
   ]
  },
  {
   "cell_type": "code",
   "execution_count": 23,
   "metadata": {
    "collapsed": false
   },
   "outputs": [
    {
     "data": {
      "text/plain": [
       "0.22868895530700684"
      ]
     },
     "execution_count": 23,
     "metadata": {},
     "output_type": "execute_result"
    }
   ],
   "source": [
    "t0 = time.time()\n",
    "S = scores_SO_basic(train, query, target > 0, dists_cards, min_rate=min_rate)\n",
    "time.time() - t0"
   ]
  },
  {
   "cell_type": "code",
   "execution_count": 24,
   "metadata": {
    "collapsed": false
   },
   "outputs": [
    {
     "data": {
      "text/plain": [
       "0.67124640091995291"
      ]
     },
     "execution_count": 24,
     "metadata": {},
     "output_type": "execute_result"
    }
   ],
   "source": [
    "evaluate_ratings(np.nan_to_num(S), target, method='mae')"
   ]
  },
  {
   "cell_type": "markdown",
   "metadata": {
    "collapsed": true
   },
   "source": [
    "## testy SO weighted"
   ]
  },
  {
   "cell_type": "code",
   "execution_count": null,
   "metadata": {
    "collapsed": true
   },
   "outputs": [],
   "source": [
    "# rekomendacje"
   ]
  },
  {
   "cell_type": "code",
   "execution_count": 12,
   "metadata": {
    "collapsed": false
   },
   "outputs": [
    {
     "name": "stdout",
     "output_type": "stream",
     "text": [
      "274.431782961\n"
     ]
    }
   ],
   "source": [
    "t0 = time.time()\n",
    "dists_cards = calculate_similarities_SO(all_scores)\n",
    "print time.time()-t0"
   ]
  },
  {
   "cell_type": "code",
   "execution_count": 13,
   "metadata": {
    "collapsed": false
   },
   "outputs": [
    {
     "name": "stdout",
     "output_type": "stream",
     "text": [
      "8.15755295753\n"
     ]
    },
    {
     "data": {
      "text/plain": [
       "(array([ 6.16666667,  5.23529412,  5.19736842,  5.14285714,  5.125     ,\n",
       "         4.83333333,  4.7826087 ,  4.7375    ,  4.73529412,  4.68181818]),\n",
       " array([10628,  9408,  9083,  9911, 10614, 10442,  9031, 10588, 10337,  3141]))"
      ]
     },
     "execution_count": 13,
     "metadata": {},
     "output_type": "execute_result"
    }
   ],
   "source": [
    "userId = 55\n",
    "\n",
    "t0 = time.time()\n",
    "recoms, scores = recommend_SO(userId, all_scores, dists_cards=dists_cards, mode='weighted')\n",
    "print time.time()-t0\n",
    "scores[:10], recoms[:10]"
   ]
  },
  {
   "cell_type": "code",
   "execution_count": null,
   "metadata": {
    "collapsed": true
   },
   "outputs": [],
   "source": [
    "# ewaluacja na zbiorze testowym"
   ]
  },
  {
   "cell_type": "code",
   "execution_count": 28,
   "metadata": {
    "collapsed": false
   },
   "outputs": [],
   "source": [
    "dists_cards = calculate_similarities_SO(train)"
   ]
  },
  {
   "cell_type": "code",
   "execution_count": 33,
   "metadata": {
    "collapsed": false
   },
   "outputs": [
    {
     "data": {
      "text/plain": [
       "0.21298503875732422"
      ]
     },
     "execution_count": 33,
     "metadata": {},
     "output_type": "execute_result"
    }
   ],
   "source": [
    "t0 = time.time()\n",
    "S = scores_SO_weighted(train, query, target > 0, dists_cards, min_rate=min_rate)\n",
    "time.time() - t0"
   ]
  },
  {
   "cell_type": "code",
   "execution_count": 34,
   "metadata": {
    "collapsed": false
   },
   "outputs": [
    {
     "data": {
      "text/plain": [
       "0.66004597485397054"
      ]
     },
     "execution_count": 34,
     "metadata": {},
     "output_type": "execute_result"
    }
   ],
   "source": [
    "evaluate_ratings(np.nan_to_num(S), target, method='mae')"
   ]
  },
  {
   "cell_type": "markdown",
   "metadata": {},
   "source": [
    "## testy SO bi-polar"
   ]
  },
  {
   "cell_type": "code",
   "execution_count": null,
   "metadata": {
    "collapsed": true
   },
   "outputs": [],
   "source": [
    "# rekomendacje"
   ]
  },
  {
   "cell_type": "code",
   "execution_count": 14,
   "metadata": {
    "collapsed": false
   },
   "outputs": [
    {
     "name": "stdout",
     "output_type": "stream",
     "text": [
      "556.821367025\n"
     ]
    }
   ],
   "source": [
    "t0 = time.time()\n",
    "dists_cards = calculate_similarities_SO_bipolar(all_scores)\n",
    "print time.time()-t0"
   ]
  },
  {
   "cell_type": "code",
   "execution_count": 15,
   "metadata": {
    "collapsed": false
   },
   "outputs": [
    {
     "name": "stdout",
     "output_type": "stream",
     "text": [
      "8.47992110252\n"
     ]
    },
    {
     "data": {
      "text/plain": [
       "(array([ 5.5       ,  5.15      ,  5.125     ,  5.05555556,  5.05      ,\n",
       "         5.02941176,  4.94642857,  4.91666667,  4.91666667,  4.9       ]),\n",
       " array([10614,  9805,  9408,  9031,  3141,  9083,  9929, 10549, 10442,  9911]))"
      ]
     },
     "execution_count": 15,
     "metadata": {},
     "output_type": "execute_result"
    }
   ],
   "source": [
    "userId = 55\n",
    "\n",
    "t0 = time.time()\n",
    "recoms, scores = recommend_SO(userId, all_scores, dists_cards=dists_cards, mode='bipolar')\n",
    "print time.time()-t0\n",
    "scores[:10], recoms[:10]"
   ]
  },
  {
   "cell_type": "code",
   "execution_count": null,
   "metadata": {
    "collapsed": true
   },
   "outputs": [],
   "source": [
    "# ewaluacja na zbiorze testowym"
   ]
  },
  {
   "cell_type": "code",
   "execution_count": 35,
   "metadata": {
    "collapsed": true
   },
   "outputs": [],
   "source": [
    "dists_cards_l, dists_cards_d = calculate_similarities_SO_bipolar(train)"
   ]
  },
  {
   "cell_type": "code",
   "execution_count": 36,
   "metadata": {
    "collapsed": false
   },
   "outputs": [
    {
     "data": {
      "text/plain": [
       "0.33114194869995117"
      ]
     },
     "execution_count": 36,
     "metadata": {},
     "output_type": "execute_result"
    }
   ],
   "source": [
    "t0 = time.time()\n",
    "S = scores_SO_bipolar(train, query, target > 0, dists_cards_l, dists_cards_d, min_rate=min_rate)\n",
    "time.time() - t0"
   ]
  },
  {
   "cell_type": "code",
   "execution_count": 37,
   "metadata": {
    "collapsed": false
   },
   "outputs": [
    {
     "data": {
      "text/plain": [
       "0.66642484426670612"
      ]
     },
     "execution_count": 37,
     "metadata": {},
     "output_type": "execute_result"
    }
   ],
   "source": [
    "evaluate_ratings(np.nan_to_num(S), target, method='mae')"
   ]
  }
 ],
 "metadata": {
  "anaconda-cloud": {},
  "kernelspec": {
   "display_name": "Python 2",
   "language": "python",
   "name": "python2"
  },
  "language_info": {
   "codemirror_mode": {
    "name": "ipython",
    "version": 2
   },
   "file_extension": ".py",
   "mimetype": "text/x-python",
   "name": "python",
   "nbconvert_exporter": "python",
   "pygments_lexer": "ipython2",
   "version": "2.7.11"
  }
 },
 "nbformat": 4,
 "nbformat_minor": 1
}
