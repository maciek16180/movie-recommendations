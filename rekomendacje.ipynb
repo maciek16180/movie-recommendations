{
 "cells": [
  {
   "cell_type": "code",
   "execution_count": 1,
   "metadata": {
    "collapsed": false
   },
   "outputs": [],
   "source": [
    "import numpy as np\n",
    "import time\n",
    "from testing import cross_valid, analyze_cross_valid_res, train_test_split, query_target_split, evaluate_ratings\n",
    "from utils import read_10M, read_1M, read_small\n",
    "from collaborative_filtering import recommend_cf_ii, recommend_cf_uu, calculate_similarities_cf_ii, \\\n",
    "                                    scores_cf_uu, scores_cf_ii\n",
    "from slope_one import recommend_SO, calculate_similarities_SO, calculate_similarities_SO_bipolar, \\\n",
    "                      scores_SO_basic, scores_SO_weighted, scores_SO_bipolar\n",
    "from baselines import baseline_predictors"
   ]
  },
  {
   "cell_type": "markdown",
   "metadata": {},
   "source": [
    "Funkcje scores_... szacują oceny filmów o indeksach target_inds \n",
    "dla użytkowników w query w oparciu o zbiór uczący train.\n",
    "\n",
    "Funkcje recommend_... służą do polecania filmów, przykład użycia na dole tego notebooka.\n",
    "\n",
    "Funkcje calculate\\_similarities_... obliczają macierze podobieństwa między filmami dla różnych metod."
   ]
  },
  {
   "cell_type": "code",
   "execution_count": 2,
   "metadata": {
    "collapsed": false
   },
   "outputs": [],
   "source": [
    "movies, ratings, min_rate = read_10M()"
   ]
  },
  {
   "cell_type": "code",
   "execution_count": 3,
   "metadata": {
    "collapsed": false
   },
   "outputs": [],
   "source": [
    "movie_index = {k:v for (v,k) in movies.movieId.to_dict().items()}"
   ]
  },
  {
   "cell_type": "code",
   "execution_count": 4,
   "metadata": {
    "collapsed": false
   },
   "outputs": [],
   "source": [
    "all_scores = np.zeros((max(ratings.userId), len(movies)))\n",
    "for (user, movie, rating, _) in ratings.values:\n",
    "    all_scores[int(user)-1, movie_index[int(movie)]] = rating\n",
    "all_scores = all_scores[np.where(all_scores.sum(axis=1) > 0)[0]]"
   ]
  },
  {
   "cell_type": "markdown",
   "metadata": {},
   "source": [
    "# cross validation"
   ]
  },
  {
   "cell_type": "code",
   "execution_count": null,
   "metadata": {
    "collapsed": true
   },
   "outputs": [],
   "source": [
    "# to są główne testy, wyniki w raporcie"
   ]
  },
  {
   "cell_type": "code",
   "execution_count": null,
   "metadata": {
    "collapsed": true
   },
   "outputs": [],
   "source": [
    "t0=time.time()\n",
    "mean_scores, std_scores = analyze_cross_valid_res(cross_valid(all_scores, method='uucf', min_rate=min_rate, \n",
    "                                                              cf_n=10, uucf_metric='pearson'))\n",
    "print mean_scores\n",
    "print std_scores\n",
    "print time.time()-t0"
   ]
  },
  {
   "cell_type": "code",
   "execution_count": null,
   "metadata": {
    "collapsed": true
   },
   "outputs": [],
   "source": [
    "t0=time.time()\n",
    "mean_scores, std_scores = analyze_cross_valid_res(cross_valid(all_scores, method='uucf', min_rate=min_rate, \n",
    "                                                              cf_n=20, uucf_metric='pearson'))\n",
    "print mean_scores\n",
    "print std_scores\n",
    "print time.time()-t0"
   ]
  },
  {
   "cell_type": "code",
   "execution_count": null,
   "metadata": {
    "collapsed": true
   },
   "outputs": [],
   "source": [
    "t0=time.time()\n",
    "mean_scores, std_scores = analyze_cross_valid_res(cross_valid(all_scores, method='uucf', min_rate=min_rate, \n",
    "                                                              cf_n=30, uucf_metric='pearson'))\n",
    "print mean_scores\n",
    "print std_scores\n",
    "print time.time()-t0"
   ]
  },
  {
   "cell_type": "markdown",
   "metadata": {},
   "source": [
    "# pozostałe testy"
   ]
  },
  {
   "cell_type": "code",
   "execution_count": null,
   "metadata": {
    "collapsed": true
   },
   "outputs": [],
   "source": [
    "# podział na zbiór uczący i testowy"
   ]
  },
  {
   "cell_type": "code",
   "execution_count": 5,
   "metadata": {
    "collapsed": false
   },
   "outputs": [],
   "source": [
    "seed = 1234\n",
    "train, test = train_test_split(all_scores, seed)\n",
    "query, target = query_target_split(test, seed, True)"
   ]
  },
  {
   "cell_type": "markdown",
   "metadata": {},
   "source": [
    "## baseline evaluation"
   ]
  },
  {
   "cell_type": "code",
   "execution_count": null,
   "metadata": {
    "collapsed": true
   },
   "outputs": [],
   "source": [
    "# ewaluacja na zbiorze testowym"
   ]
  },
  {
   "cell_type": "code",
   "execution_count": 6,
   "metadata": {
    "collapsed": false
   },
   "outputs": [
    {
     "data": {
      "text/plain": [
       "0.68612817295587047"
      ]
     },
     "execution_count": 6,
     "metadata": {},
     "output_type": "execute_result"
    }
   ],
   "source": [
    "evaluate_ratings(baseline_predictors(train, query), target, method='mae')"
   ]
  },
  {
   "cell_type": "markdown",
   "metadata": {},
   "source": [
    "## testy uu"
   ]
  },
  {
   "cell_type": "code",
   "execution_count": null,
   "metadata": {
    "collapsed": true
   },
   "outputs": [],
   "source": [
    "# rekomendacje"
   ]
  },
  {
   "cell_type": "code",
   "execution_count": 7,
   "metadata": {
    "collapsed": false
   },
   "outputs": [
    {
     "name": "stdout",
     "output_type": "stream",
     "text": [
      "0.35307598114\n"
     ]
    },
    {
     "data": {
      "text/plain": [
       "(array([ 4.72342042,  4.59176516,  4.58948437,  4.54762371,  4.54109994,\n",
       "         4.53453507,  4.51377053,  4.5108084 ,  4.47293052,  4.47084276]),\n",
       " array([ 284, 7364,  953, 3054, 8439, 6901, 1958, 2187, 3871, 1892]))"
      ]
     },
     "execution_count": 7,
     "metadata": {},
     "output_type": "execute_result"
    }
   ],
   "source": [
    "userId = 55\n",
    "\n",
    "t0 = time.time()\n",
    "recoms, scores, sample_size = recommend_cf_uu(userId, 50, all_scores, 10, metric='cosine')\n",
    "print time.time()-t0\n",
    "scores[:10], recoms[:10]"
   ]
  },
  {
   "cell_type": "code",
   "execution_count": null,
   "metadata": {
    "collapsed": true
   },
   "outputs": [],
   "source": [
    "# ewaluacja na zbiorze testowym"
   ]
  },
  {
   "cell_type": "code",
   "execution_count": 8,
   "metadata": {
    "collapsed": false
   },
   "outputs": [
    {
     "data": {
      "text/plain": [
       "0.3459289073944092"
      ]
     },
     "execution_count": 8,
     "metadata": {},
     "output_type": "execute_result"
    }
   ],
   "source": [
    "t0 = time.time()\n",
    "S = scores_cf_uu(train, query, target > 0, 50, metric='pearson', min_rate=min_rate)[0]\n",
    "time.time() - t0"
   ]
  },
  {
   "cell_type": "code",
   "execution_count": 9,
   "metadata": {
    "collapsed": false
   },
   "outputs": [
    {
     "data": {
      "text/plain": [
       "0.66482114440825846"
      ]
     },
     "execution_count": 9,
     "metadata": {},
     "output_type": "execute_result"
    }
   ],
   "source": [
    "evaluate_ratings(S, target, method='mae')"
   ]
  },
  {
   "cell_type": "markdown",
   "metadata": {},
   "source": [
    "## testy ii"
   ]
  },
  {
   "cell_type": "code",
   "execution_count": null,
   "metadata": {
    "collapsed": true
   },
   "outputs": [],
   "source": [
    "# rekomendacje"
   ]
  },
  {
   "cell_type": "code",
   "execution_count": 10,
   "metadata": {
    "collapsed": true
   },
   "outputs": [],
   "source": [
    "dists = calculate_similarities_cf_ii(all_scores)"
   ]
  },
  {
   "cell_type": "code",
   "execution_count": 11,
   "metadata": {
    "collapsed": false
   },
   "outputs": [
    {
     "name": "stdout",
     "output_type": "stream",
     "text": [
      "0.202964067459\n"
     ]
    },
    {
     "data": {
      "text/plain": [
       "(array([ 6.64586466,  6.64586466,  6.64586466,  6.64586466,  6.64586466,\n",
       "         6.64586466,  6.64586466,  6.64586466,  6.26360142,  5.54824561]),\n",
       " array([3611, 3261, 1174, 1244, 3751, 4131, 3830, 1413, 8485, 8529]))"
      ]
     },
     "execution_count": 11,
     "metadata": {},
     "output_type": "execute_result"
    }
   ],
   "source": [
    "userId = 55\n",
    "\n",
    "t0 = time.time()\n",
    "recoms, scores = recommend_cf_ii(userId, 50, all_scores, dists=dists)\n",
    "print time.time()-t0\n",
    "scores[:10], recoms[:10]"
   ]
  },
  {
   "cell_type": "code",
   "execution_count": null,
   "metadata": {
    "collapsed": true
   },
   "outputs": [],
   "source": [
    "# ewaluacja na zbiorze testowym"
   ]
  },
  {
   "cell_type": "code",
   "execution_count": 19,
   "metadata": {
    "collapsed": true
   },
   "outputs": [],
   "source": [
    "dists = calculate_similarities_cf_ii(train)"
   ]
  },
  {
   "cell_type": "code",
   "execution_count": 20,
   "metadata": {
    "collapsed": false
   },
   "outputs": [
    {
     "data": {
      "text/plain": [
       "0.16721701622009277"
      ]
     },
     "execution_count": 20,
     "metadata": {},
     "output_type": "execute_result"
    }
   ],
   "source": [
    "t0 = time.time()\n",
    "S_ii = scores_cf_ii(train, query, target > 0, 20, dists, min_rate=min_rate)\n",
    "time.time() - t0"
   ]
  },
  {
   "cell_type": "code",
   "execution_count": 21,
   "metadata": {
    "collapsed": false
   },
   "outputs": [
    {
     "data": {
      "text/plain": [
       "0.66497166549689679"
      ]
     },
     "execution_count": 21,
     "metadata": {},
     "output_type": "execute_result"
    }
   ],
   "source": [
    "evaluate_ratings(S_ii, target, method='mae')"
   ]
  },
  {
   "cell_type": "markdown",
   "metadata": {},
   "source": [
    "## testy SO basic"
   ]
  },
  {
   "cell_type": "code",
   "execution_count": null,
   "metadata": {
    "collapsed": true
   },
   "outputs": [],
   "source": [
    "# rekomendacje"
   ]
  },
  {
   "cell_type": "code",
   "execution_count": 15,
   "metadata": {
    "collapsed": true
   },
   "outputs": [],
   "source": [
    "dists_cards = calculate_similarities_SO(all_scores)"
   ]
  },
  {
   "cell_type": "code",
   "execution_count": 17,
   "metadata": {
    "collapsed": false
   },
   "outputs": [
    {
     "name": "stdout",
     "output_type": "stream",
     "text": [
      "0.275269031525\n"
     ]
    },
    {
     "data": {
      "text/plain": [
       "(array([ 8.        ,  7.5       ,  7.5       ,  7.        ,  7.        ,\n",
       "         7.        ,  7.        ,  6.75      ,  6.75      ,  6.64586466]),\n",
       " array([9119, 8504, 9057, 5372,  356, 8185, 2323, 7903, 3728, 1174]))"
      ]
     },
     "execution_count": 17,
     "metadata": {},
     "output_type": "execute_result"
    }
   ],
   "source": [
    "userId = 55\n",
    "\n",
    "t0 = time.time()\n",
    "recoms, scores = recommend_SO(userId, all_scores, dists_cards=dists_cards, mode='basic')\n",
    "print time.time()-t0\n",
    "scores[:10], recoms[:10]"
   ]
  },
  {
   "cell_type": "code",
   "execution_count": null,
   "metadata": {
    "collapsed": true
   },
   "outputs": [],
   "source": [
    "# ewaluacja na zbiorze testowym"
   ]
  },
  {
   "cell_type": "code",
   "execution_count": 22,
   "metadata": {
    "collapsed": false
   },
   "outputs": [],
   "source": [
    "dists_cards = calculate_similarities_SO(train)"
   ]
  },
  {
   "cell_type": "code",
   "execution_count": 23,
   "metadata": {
    "collapsed": false
   },
   "outputs": [
    {
     "data": {
      "text/plain": [
       "0.22868895530700684"
      ]
     },
     "execution_count": 23,
     "metadata": {},
     "output_type": "execute_result"
    }
   ],
   "source": [
    "t0 = time.time()\n",
    "S = scores_SO_basic(train, query, target > 0, dists_cards, min_rate=min_rate)\n",
    "time.time() - t0"
   ]
  },
  {
   "cell_type": "code",
   "execution_count": 24,
   "metadata": {
    "collapsed": false
   },
   "outputs": [
    {
     "data": {
      "text/plain": [
       "0.67124640091995291"
      ]
     },
     "execution_count": 24,
     "metadata": {},
     "output_type": "execute_result"
    }
   ],
   "source": [
    "evaluate_ratings(np.nan_to_num(S), target, method='mae')"
   ]
  },
  {
   "cell_type": "markdown",
   "metadata": {
    "collapsed": true
   },
   "source": [
    "## testy SO weighted"
   ]
  },
  {
   "cell_type": "code",
   "execution_count": null,
   "metadata": {
    "collapsed": true
   },
   "outputs": [],
   "source": [
    "# rekomendacje"
   ]
  },
  {
   "cell_type": "code",
   "execution_count": 25,
   "metadata": {
    "collapsed": false
   },
   "outputs": [],
   "source": [
    "dists_cards = calculate_similarities_SO(all_scores)"
   ]
  },
  {
   "cell_type": "code",
   "execution_count": 27,
   "metadata": {
    "collapsed": false
   },
   "outputs": [
    {
     "name": "stdout",
     "output_type": "stream",
     "text": [
      "0.328321933746\n"
     ]
    },
    {
     "data": {
      "text/plain": [
       "(array([ 8.        ,  7.5       ,  7.5       ,  7.        ,  7.        ,\n",
       "         7.        ,  7.        ,  6.75      ,  6.75      ,  6.64586466]),\n",
       " array([9119, 8504, 9057, 5372, 8185, 2323,  356, 3728, 7903, 1413]))"
      ]
     },
     "execution_count": 27,
     "metadata": {},
     "output_type": "execute_result"
    }
   ],
   "source": [
    "userId = 55\n",
    "\n",
    "t0 = time.time()\n",
    "recoms, scores = recommend_SO(userId, all_scores, dists_cards=dists_cards, mode='weighted')\n",
    "print time.time()-t0\n",
    "scores[:10], recoms[:10]"
   ]
  },
  {
   "cell_type": "code",
   "execution_count": null,
   "metadata": {
    "collapsed": true
   },
   "outputs": [],
   "source": [
    "# ewaluacja na zbiorze testowym"
   ]
  },
  {
   "cell_type": "code",
   "execution_count": 28,
   "metadata": {
    "collapsed": false
   },
   "outputs": [],
   "source": [
    "dists_cards = calculate_similarities_SO(train)"
   ]
  },
  {
   "cell_type": "code",
   "execution_count": 33,
   "metadata": {
    "collapsed": false
   },
   "outputs": [
    {
     "data": {
      "text/plain": [
       "0.21298503875732422"
      ]
     },
     "execution_count": 33,
     "metadata": {},
     "output_type": "execute_result"
    }
   ],
   "source": [
    "t0 = time.time()\n",
    "S = scores_SO_weighted(train, query, target > 0, dists_cards, min_rate=min_rate)\n",
    "time.time() - t0"
   ]
  },
  {
   "cell_type": "code",
   "execution_count": 34,
   "metadata": {
    "collapsed": false
   },
   "outputs": [
    {
     "data": {
      "text/plain": [
       "0.66004597485397054"
      ]
     },
     "execution_count": 34,
     "metadata": {},
     "output_type": "execute_result"
    }
   ],
   "source": [
    "evaluate_ratings(np.nan_to_num(S), target, method='mae')"
   ]
  },
  {
   "cell_type": "markdown",
   "metadata": {},
   "source": [
    "## testy SO bi-polar"
   ]
  },
  {
   "cell_type": "code",
   "execution_count": null,
   "metadata": {
    "collapsed": true
   },
   "outputs": [],
   "source": [
    "# rekomendacje"
   ]
  },
  {
   "cell_type": "code",
   "execution_count": 38,
   "metadata": {
    "collapsed": true
   },
   "outputs": [],
   "source": [
    "dists_cards = calculate_similarities_SO_bipolar(all_scores)"
   ]
  },
  {
   "cell_type": "code",
   "execution_count": 39,
   "metadata": {
    "collapsed": false
   },
   "outputs": [
    {
     "name": "stdout",
     "output_type": "stream",
     "text": [
      "0.565158128738\n"
     ]
    },
    {
     "data": {
      "text/plain": [
       "(array([ 6.64586466,  6.64586466,  6.64586466,  6.64586466,  6.64586466,\n",
       "         6.64586466,  6.64586466,  6.64586466,  6.5       ,  6.5       ]),\n",
       " array([1244, 1413, 3751, 3830, 1174, 3261, 4131, 3611, 6558, 7903]))"
      ]
     },
     "execution_count": 39,
     "metadata": {},
     "output_type": "execute_result"
    }
   ],
   "source": [
    "userId = 55\n",
    "\n",
    "t0 = time.time()\n",
    "recoms, scores = recommend_SO(userId, all_scores, dists_cards=dists_cards, mode='bipolar')\n",
    "print time.time()-t0\n",
    "scores[:10], recoms[:10]"
   ]
  },
  {
   "cell_type": "code",
   "execution_count": null,
   "metadata": {
    "collapsed": true
   },
   "outputs": [],
   "source": [
    "# ewaluacja na zbiorze testowym"
   ]
  },
  {
   "cell_type": "code",
   "execution_count": 35,
   "metadata": {
    "collapsed": true
   },
   "outputs": [],
   "source": [
    "dists_cards_l, dists_cards_d = calculate_similarities_SO_bipolar(train)"
   ]
  },
  {
   "cell_type": "code",
   "execution_count": 36,
   "metadata": {
    "collapsed": false
   },
   "outputs": [
    {
     "data": {
      "text/plain": [
       "0.33114194869995117"
      ]
     },
     "execution_count": 36,
     "metadata": {},
     "output_type": "execute_result"
    }
   ],
   "source": [
    "t0 = time.time()\n",
    "S = scores_SO_bipolar(train, query, target > 0, dists_cards_l, dists_cards_d, min_rate=min_rate)\n",
    "time.time() - t0"
   ]
  },
  {
   "cell_type": "code",
   "execution_count": 37,
   "metadata": {
    "collapsed": false
   },
   "outputs": [
    {
     "data": {
      "text/plain": [
       "0.66642484426670612"
      ]
     },
     "execution_count": 37,
     "metadata": {},
     "output_type": "execute_result"
    }
   ],
   "source": [
    "evaluate_ratings(np.nan_to_num(S), target, method='mae')"
   ]
  }
 ],
 "metadata": {
  "anaconda-cloud": {},
  "kernelspec": {
   "display_name": "Python 2",
   "language": "python",
   "name": "python2"
  },
  "language_info": {
   "codemirror_mode": {
    "name": "ipython",
    "version": 2
   },
   "file_extension": ".py",
   "mimetype": "text/x-python",
   "name": "python",
   "nbconvert_exporter": "python",
   "pygments_lexer": "ipython2",
   "version": "2.7.11"
  }
 },
 "nbformat": 4,
 "nbformat_minor": 1
}
